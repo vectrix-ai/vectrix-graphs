{
 "cells": [
  {
   "cell_type": "markdown",
   "metadata": {},
   "source": [
    "# Searchflow\n",
    "\n",
    "### Packages needed to run this notebook\n",
    "- libmagic: ```brew install libmagic```\n",
    "\n",
    "### ChromaDB\n",
    "Don't forget to start the ChromaDB server: ```docker run -p 7777:8000 chromadb/chroma```\n",
    "\n",
    "### Run the API\n",
    "https://docs.astral.sh/uv/guides/integration/fastapi/\n",
    "\n",
    "For development purposes, you can run the API with: ```uv run fastapi dev```"
   ]
  },
  {
   "cell_type": "code",
   "execution_count": 1,
   "metadata": {},
   "outputs": [
    {
     "name": "stderr",
     "output_type": "stream",
     "text": [
      "\u001b[33m2024-10-27 12:24:56,216 - VectorDB - WARNING - Connecting to ChromaDB on localhost failed, using hosted service instead\u001b[0m\n",
      "\u001b[33m2024-10-27 12:24:56,647 - VectorDB - WARNING - Demo collection already exists\u001b[0m\n"
     ]
    },
    {
     "data": {
      "text/plain": [
       "True"
      ]
     },
     "execution_count": 1,
     "metadata": {},
     "output_type": "execute_result"
    }
   ],
   "source": [
    "# Load packages from the src directory\n",
    "import sys\n",
    "import json\n",
    "sys.path.append('../src')\n",
    "from vectrix_graphs import ExtractDocuments, setup_logger, ExtractMetaData\n",
    "\n",
    "\n",
    "from dotenv import load_dotenv\n",
    "load_dotenv()"
   ]
  },
  {
   "cell_type": "markdown",
   "metadata": {},
   "source": [
    "### Extracting chunks of data from a document"
   ]
  },
  {
   "cell_type": "code",
   "execution_count": 2,
   "metadata": {},
   "outputs": [
    {
     "name": "stderr",
     "output_type": "stream",
     "text": [
      "\u001b[32m2024-10-27 12:25:26,522 - Files - INFO - Extracting documents from ./files/arabic_test.docx\u001b[0m\n"
     ]
    }
   ],
   "source": [
    "# Create chunks of data from a document\n",
    "extract = ExtractDocuments(\n",
    "    logger=setup_logger(name=\"Files\", level=\"INFO\"),\n",
    "    )\n",
    "\n",
    "result = extract.extract(file_path=\"./files/arabic_test.docx\")\n"
   ]
  },
  {
   "cell_type": "code",
   "execution_count": 3,
   "metadata": {},
   "outputs": [
    {
     "name": "stdout",
     "output_type": "stream",
     "text": [
      "Metadata:\n",
      "{\n",
      "    \"file_directory\": \"./files\",\n",
      "    \"filename\": \"arabic_test.docx\",\n",
      "    \"last_modified\": \"2024-10-25T10:09:47\",\n",
      "    \"orig_elements\": \"eJzdWNuO2zYQ/RXBTwlQbnm/+A8KFH3at6YwhrfGwHo38KpFgqD/Xsmk4ZFpZbVAmtr7IhDkkBwenjPD0e9fV+kh7dJjv9nG1bpbsSSFoM4S0C4TabQhXolIKCSVIjMhZr36qVvtUg8RehjmfF0F6NOfT/svm5g+9R+HLjpY5O1D2sTtPoV+GBrXvvt57Hte1cFH2KWxG/bgt2HTp+f+Lj6Fz+P4Azz3m91T3OZtOvjFKZeEUcLVPaNr6tbSrP4ZDPv0uR/HP/xFNTfjV8rDVx164uELhx57+MLJksO4Vf/l08GN+23/kMY1zyGxSitrpSTUCU9kFIkAV5F4H5mXhgaqxE1AosevMKifdydksGlBrJoi3CTHiP26fe5/6dPuEmh04AoFHgkIx4j0ihIbhCbMe7DWspzS9YJWuBMOGDDEF9yGDgHlEMqAkC3DPCN8C5qyayAXp2G86XGlltvmfFPu5kwzWjUU06UXmRSNiocxAgQgUmdPwFlOvPWghXLZRvfyRbL/5yIFhhxh49c3fnsdUqbGDO2aExVbgZ21MzuJyX6Lpa4Ss5FxkkBrIukQH32gQJi2PBqtk2PsahniERL6PEG8EZ5UxwtPMuoqM6TqTuNClkUWMaRDAxgce+5/zcDmFYdczD7mqAieE5PjkJ2lysTG5IZk7ZVykhsO/ibYJ5ueN8u+eiJ9mi01GpD8tFTZdUo1nIZLkm6dKi8/IZApeuXU7F1XKqhAw+ZiW4xEdbAiiPdTyHMUi8X0+GWGQp6gG+Ot3qa+LVWD8NnRwCTRTKghFjNPbA6SJJcoU8PTS19vtp7cqz2/hrerBhxTj9505zo4crE9RTin7axrEzgVdgoaqc3Nq27iLeq5v50lKufLvHQwxfrWjR6FQHqcAGyWikFrz4boz0h0jg5PVz+kBgGMWJWlionSLOjV1iDfu3D78FiwvcOBFl9p5VzhGS3tlm2vKI0UOoHDXSj61xmxDPM5fd2s5scvDeiyKus5WsLPqAgL7sKmk6eCOvHkqMqWGx61DeqpZQT2EjuDPBYXrtmcm9aEOY1F79j7un73jp+a4tTU7zt8lJnFJ34MyxawX5q6BM/JWyGjnlfjCRhP7FNxHq90fIfPCQ1TCj14JpSqYi0nLVFz8vppq70itBoDYI3j6W+w30O//Tvdj8HoQlCVymQnnSHBwviDMAzVnktAhOcu6aEpA1xtUH0hjjSBdFFMqeySSNjwI+rzu6V50BgPHhyQIIwgMuZIHGRBBj9cElHRFOS1Xtmy2vVCCsQRtjV66Z3SmLairaGtle7k13NuYg6OrTUhMuQMToiT2uE/qrNb/CYP0cZ0msbajZBn1SeNTtReVP3rgh+DtNm0dM3mHQzKMZ+X2Ys1As4Kp5gmPjlJ5CgPq8QY4KLjZhCup+mGNHI1FXYb6SZsaRIi199U7CyDFxUht1Pvz/D2j38B52/M5Q==\",\n",
      "    \"languages\": [\n",
      "        \"ara\"\n",
      "    ],\n",
      "    \"filetype\": \"application/vnd.openxmlformats-officedocument.wordprocessingml.document\"\n",
      "}\n",
      "Content:\n",
      "المحتويات\n",
      "\n",
      "النطاق والتطبيق\n",
      "\n",
      "إجراءات تعليق تداول الأوراق المالية المدرجة\n",
      "\n",
      "أولاً: تعليق تداول الأوراق المالية المدرجة بناء على طلب المصدر\n",
      "\n",
      "ثانياً: تعليق تداول الأوراق المالية المدرجة عند عدم نشر المصدر معلوماته المالية\n",
      "\n",
      "ثالثاً: تعليق تداول الأوراق المالية المدرجة عند تضمن تقرير مراجع الحسابات رأي معارض أو امتناع عن إبداء الرأي\n",
      "\n",
      "رابعاً: تعليق تداول الأوراق المالية المدرجة عند صدور قرار الجمعية العامة غير العادية للمصدر بتخفيض رأس ماله\n",
      "\n",
      "النطاق والتطبيق\n",
      "أ. تهدف هذه الإجراءات إلى إيضاح آلية تعليق تداول الأوراق المالية المدرجة، وفقاً للمادة الثامنة والثلاثون وللفقرات الفرعية (1) و (2) و (3) و (6) من الفقرة (ج) من المادة السادسة والثلاثين من قواعد الإدراج، وذلك حسب الآتي:\n",
      "\n",
      "تعليق التداول المؤقت بناء على طلب المصدر.\n",
      "\n",
      "عند عدم التزام المصدر بالمواعيد المحددة للإفصاح عن معلوماته المالية الدورية وفق اللوائح التنفيذية ذات العلاقة.\n",
      "\n",
      "عند تضمن تقرير مراجع الحسابات على القوائم المالية للمصدر رأي معارض أو امتناع عن إبداء الرأي.\n"
     ]
    }
   ],
   "source": [
    "print('Metadata:')\n",
    "print(json.dumps(result[1].metadata, indent=4))\n",
    "\n",
    "print('Content:')\n",
    "print(result[1].page_content)"
   ]
  },
  {
   "cell_type": "code",
   "execution_count": 4,
   "metadata": {},
   "outputs": [
    {
     "name": "stderr",
     "output_type": "stream",
     "text": [
      "\u001b[32m2024-10-27 12:25:42,232 - ExtractMetaData - INFO - Extracting metadata from 9 documents, using gpt-4o-mini\u001b[0m\n"
     ]
    }
   ],
   "source": [
    "# Add additional metadata using a NER-pipeline\n",
    "ner = ExtractMetaData(\n",
    "    logger=setup_logger(name=\"ExtractMetaData\", level=\"INFO\",),\n",
    "    model=\"gpt-4o-mini\" # Options are gpt-4o-mini, llama3.1-8B , llama3.1-70B\n",
    "    )\n",
    "result_with_metadata = ner.extract(result, source=\"uploaded_file\")"
   ]
  },
  {
   "cell_type": "code",
   "execution_count": 5,
   "metadata": {},
   "outputs": [
    {
     "data": {
      "text/plain": [
       "{'filename': 'arabic_test.docx',\n",
       " 'filetype': 'application/vnd.openxmlformats-officedocument.wordprocessingml.document',\n",
       " 'author': 'هيئة السوق المالية',\n",
       " 'source': 'uploaded_file',\n",
       " 'word_count': 41,\n",
       " 'language': 'AR',\n",
       " 'content_type': 'other',\n",
       " 'tags': \"['Finance', 'Stock Market', 'Saudi Arabia']\",\n",
       " 'summary': 'The document outlines the procedures for suspending the trading of listed securities according to the listing rules approved by the Capital Market Authority in Saudi Arabia.',\n",
       " 'read_time': 0.205,\n",
       " 'last_modified': '2024-10-25T10:09:47'}"
      ]
     },
     "execution_count": 5,
     "metadata": {},
     "output_type": "execute_result"
    }
   ],
   "source": [
    "result_with_metadata[0].metadata"
   ]
  },
  {
   "cell_type": "markdown",
   "metadata": {},
   "source": [
    "### Adding the documents to a vector database (Chroma)\n",
    "\n",
    "For this demo, the vector database will be saved locally on disk, restarting the container will delete the database.\n",
    "I prefer using the cosine distance instead of the default squared L2 distance, we pass this using the `hnsw:space` metadata.\n",
    "\n",
    "$$\n",
    "d = 1.0 - \\frac{\\sum(A_i \\times B_i)}{\\sqrt{\\sum(A_i^2) \\cdot \\sum(B_i^2)}}\n",
    "$$\n",
    "\n",
    "We use Ollama to calculate the embeddings locally with BGE-M3, since over a 100 langues are supported this is ideal for embedding Arabic documents.\n",
    "\n",
    "BGE-M3 is based on the XLM-RoBERTa architecture and is distinguished for its versatility in Multi-Functionality, Multi-Linguality, and Multi-Granularity:\n",
    "\n",
    "- Multi-Functionality: It can simultaneously perform the three common retrieval functionalities of embedding model: dense retrieval, multi-vector retrieval, and sparse retrieval.\n",
    "- Multi-Linguality: It can support more than 100 working languages.\n",
    "- Multi-Granularity: It is able to process inputs of different granularities, spanning from short sentences to long documents of up to 8192 tokens.\n",
    "\n",
    "> ℹ️ So all embeddings will be calculated locally ℹ️\n"
   ]
  },
  {
   "cell_type": "code",
   "execution_count": 6,
   "metadata": {},
   "outputs": [],
   "source": [
    "from vectrix_graphs import vectordb\n",
    "\n",
    "vectordb.remove_collection(\"demo\")\n",
    "vectordb.create_collection(\"demo\")"
   ]
  },
  {
   "cell_type": "code",
   "execution_count": 7,
   "metadata": {},
   "outputs": [],
   "source": [
    "vectordb.add_documents(result_with_metadata)"
   ]
  },
  {
   "cell_type": "code",
   "execution_count": 8,
   "metadata": {},
   "outputs": [
    {
     "data": {
      "text/plain": [
       "[Document(metadata={'author': '', 'content_type': 'other', 'filename': 'arabic_test.docx', 'filetype': 'application/vnd.openxmlformats-officedocument.wordprocessingml.document', 'language': 'AR', 'last_modified': '2024-10-25T10:09:47', 'read_time': 0.71, 'source': 'uploaded_file', 'summary': 'يتناول المحتوى إجراءات تعليق تداول الأوراق المالية المدرجة في حال عدم التزام المصدر بنشر معلوماته المالية خلال المدة المحددة.', 'tags': \"['الأسواق المالية', 'تداول الأوراق المالية', 'الإفصاح المالي']\", 'word_count': 142, 'cosine_distance': 938.0967500597377, 'uuid': '71263779-03da-4b05-8387-ce236519e49d'}, page_content='في حال عدم تمكن المصدر من الإعلان عن الحدث خلال المدة التي حددها فيجب عليه الإعلان عن سبب ذلك قبل انتهاء تلك المدة.\\n\\nترفع السوق التعليق مباشرة فور انتهاء المدة التي حددها المصدر في طلب التعليق ما لم ترَ الهيئة أو السوق خلاف ذلك.\\n\\nثانياً: تعليق تداول الأوراق المالية المدرجة عند عدم نشر المصدر معلوماته المالية (الأولية أو السنوية)\\nوفقاً للفقرة الفرعية (1) من الفقرة (ج) من المادة السادسة والثلاثين من قواعد الإدراج، تعلق السوق تداول الأوراق المالية المدرجة للمصدر عند عدم التزامه بالمهل المحددة لنشر المعلومات المالية الدورية وفق اللوائح التنفيذية ذات العلاقة وذلك حسب الإجراء الآتي:\\n\\nفي حال عدم تمكن المصدر من نشر معلوماته المالية الدورية بنهاية المهلة المحددة في اللوائح التنفيذية ذات العلاقة، تقوم السوق بتعليق تداول الأوراق المالية لجلسة تداول واحدة تلي انتهاء المهلة النظامية وتعلن عن سبب التعليق مع التوضيح في الإعلان بانطباق هذه الإجراءات على المصدر.'),\n",
       " Document(metadata={'author': '', 'content_type': 'other', 'filename': 'arabic_test.docx', 'filetype': 'application/vnd.openxmlformats-officedocument.wordprocessingml.document', 'language': 'AR', 'last_modified': '2024-10-25T10:09:47', 'read_time': 0.55, 'source': 'uploaded_file', 'summary': 'يتناول النص إجراءات تعليق تداول الأوراق المالية في حال وجود رأي معارض أو امتناع عن إبداء الرأي، ويحدد المدة الزمنية للتعليق وإجراءات رفعه.', 'tags': \"['الأسواق المالية', 'تداول', 'الأوراق المالية']\", 'word_count': 110, 'cosine_distance': 945.5971413185322, 'uuid': '8e2112b3-187e-4d3b-a114-55816399a423'}, page_content='في حال لم تتم إزالة الرأي المعارض أو الامتناع عن إبداء الرأي من القوائم المالية خلال المدة المشار إليها في الفقرة (3) أعلاه، تقوم السوق بالإعلان عن إعادة تعليق الأوراق المالية، إلى أن يقوم المصدر بإزالة الرأي المعارض أو الامتناع عن إبداء الرأي.\\n\\nتقوم السوق برفع التعليق بعد مرور جلسة تداول واحدة تلي الإعلان عن إزالة الرأي المعارض أو الامتناع عن إبداء الرأي، وتقوم بالإعلان عن ذلك.\\n\\nفي حال تجاوز تعليق الأوراق المالية شهراً واحداً فللمصدر التقدم بطلب تداول أوراقه المالية خارج المنصة.\\n\\nفي حال استمر تعليق تداول الأوراق المالية مدة ستة أشهر من دون أن يتخذ المصدر الإجراءات المناسبة لتصحيح ذلك التعليق، فيجوز للهيئة إلغاء إدراج الورقة المالية للمصدر.'),\n",
       " Document(metadata={'author': '', 'content_type': 'other', 'filename': 'arabic_test.docx', 'filetype': 'application/vnd.openxmlformats-officedocument.wordprocessingml.document', 'language': 'AR', 'last_modified': '2024-10-25T10:09:47', 'read_time': 0.755, 'source': 'uploaded_file', 'summary': \"The document outlines the procedure for suspending the trading of listed securities when an auditor's report contains a dissenting opinion or abstention from expressing an opinion, according to specific regulations.\", 'tags': \"['Finance', 'Regulations', 'Stock Market']\", 'word_count': 151, 'cosine_distance': 950.6366276657159, 'uuid': '9020dfa8-4734-4d64-8693-9c3372f3c165'}, page_content='ثالثاً: تعليق تداول الأوراق المالية المدرجة عند تضمن تقرير مراجع الحسابات رأي معارض أو امتناع عن إبداء الرأي\\nوفقاً للفقرات الفرعية (2) و (3) من الفقرة (ج) من المادة السادسة والثلاثين من قواعد الإدراج، تعلق السوق تداول الأوراق المالية عند تضمن تقرير مراجع الحسابات رأي معارض أو امتناع عن إبداء الرأي، وذلك حسب الإجراء الآتي:\\n\\nيعلن المصدر نتائجه المالية على موقع السوق المالية السعودية (تداول) والتي تتضمن رأي معارض أو امتناع عن إبداء الرأي مع التوضيح في الإعلان بانطباق هذه الإجراءات عليه.\\n\\nتقوم السوق بتعليق تداول الأوراق المالية لجلسة تداول واحدة تلي إعلان المصدر عن نتائجه المالية المتضمنة رأي معارض أو امتناع عن إبداء الرأي وتعلن عن سبب التعليق مع التوضيح في الإعلان بانطباق هذه الإجراءات على المصدر.\\n\\nيستأنف تداول الأوراق المالية ذات العلاقة لمدة عشرين جلسة تداول تلي الجلسة التي تم تعليق تداولها فيها، ويجب على المصدر خلال هذه المدة الإعلان عن إزالة الرأي المعارض أو الامتناع عن إبداء الرأي.')]"
      ]
     },
     "execution_count": 8,
     "metadata": {},
     "output_type": "execute_result"
    }
   ],
   "source": [
    "# Now let's query the vector database\n",
    "vectordb.similarity_search(\n",
    "    query=\"What is the attention mechanism?\",\n",
    "    k=3\n",
    "    )"
   ]
  },
  {
   "cell_type": "markdown",
   "metadata": {},
   "source": [
    "## Asking questions to the Graph\n",
    " Let's now ask questions using the LangGraph workflow\n",
    "\n",
    "### Example 1: Using closed source LLMs\n"
   ]
  },
  {
   "cell_type": "markdown",
   "metadata": {},
   "source": [
    "### Example 2: Using open-source LLMs that can be self-hosted"
   ]
  },
  {
   "cell_type": "code",
   "execution_count": null,
   "metadata": {},
   "outputs": [],
   "source": [
    "# Load packages from the src directory\n",
    "import sys\n",
    "from IPython.display import Markdown, display, Image\n",
    "sys.path.append('../src')\n",
    "\n",
    "from langchain_core.messages import HumanMessage\n",
    "from vectrix_graphs import local_slm_demo\n",
    "\n",
    "# Display the graph\n",
    "display(Image(local_slm_demo.get_graph().draw_mermaid_png()))\n",
    "\n",
    "#Ask the question\n",
    "input = [HumanMessage(content=\"What is the attention mechanism?\")]\n",
    "\n",
    "\n",
    "# Run the graph\n",
    "response = await local_slm_demo.ainvoke({\"messages\": input})\n",
    "display(Markdown(f\"***Question:*** \\n {input[0].content}\\n\"))\n",
    "display(Markdown(response['messages'][-1].content))"
   ]
  },
  {
   "cell_type": "code",
   "execution_count": null,
   "metadata": {},
   "outputs": [],
   "source": [
    "# Load packages from the src directory\n",
    "import sys\n",
    "import json\n",
    "from IPython.display import Markdown, display, Image\n",
    "sys.path.append('../src')\n",
    "\n",
    "from langchain_core.messages import HumanMessage\n",
    "from vectrix_graphs import local_slm_demo\n",
    "\n",
    "#Ask the question\n",
    "input = [HumanMessage(content=\"What is the attention mechanism?\")]\n",
    "\n",
    "response = await local_slm_demo.ainvoke({\"messages\": input})\n",
    "print(json.dumps(response, indent=4))"
   ]
  },
  {
   "cell_type": "code",
   "execution_count": null,
   "metadata": {},
   "outputs": [],
   "source": [
    "print(response['messages'][-1])"
   ]
  },
  {
   "cell_type": "code",
   "execution_count": null,
   "metadata": {},
   "outputs": [],
   "source": [
    "from langchain_core.messages import HumanMessage, AIMessage\n",
    "from langchain_openai import ChatOpenAI\n",
    "from langchain_core.output_parsers import StrOutputParser\n",
    "from langchain_core.prompts import ChatPromptTemplate\n",
    "\n",
    "\n",
    "human = HumanMessage(content=\"What is the attention mechanism?\")\n",
    "ai = AIMessage(content=\"The attention mechanism is a technique used in neural networks to enable the model to focus on relevant parts of the input data during processing.\")\n",
    "\n",
    "messages = ChatPromptTemplate.from_messages([human, ai])\n",
    "\n",
    "\n",
    "llm = ChatOpenAI(model=\"gpt-4o-mini\", temperature=0)\n",
    "\n",
    "chain = messages | llm | StrOutputParser()\n",
    "\n",
    "chain.invoke({})"
   ]
  }
 ],
 "metadata": {
  "kernelspec": {
   "display_name": ".venv",
   "language": "python",
   "name": "python3"
  },
  "language_info": {
   "codemirror_mode": {
    "name": "ipython",
    "version": 3
   },
   "file_extension": ".py",
   "mimetype": "text/x-python",
   "name": "python",
   "nbconvert_exporter": "python",
   "pygments_lexer": "ipython3",
   "version": "3.11.10"
  }
 },
 "nbformat": 4,
 "nbformat_minor": 2
}
