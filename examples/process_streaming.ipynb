{
 "cells": [
  {
   "cell_type": "code",
   "execution_count": null,
   "metadata": {},
   "outputs": [],
   "source": [
    "# Load packages from the src directory\n",
    "import sys\n",
    "from IPython.display import Markdown, display\n",
    "sys.path.append('../src')\n",
    "\n",
    "from IPython.display import Image, display\n",
    "from langchain_core.messages import HumanMessage\n",
    "from vectrix_graphs import local_slm_demo\n",
    "from vectrix_graphs.graphs.utils.stream_processor import StreamProcessor\n",
    "from vectrix_graphs.logger import setup_logger\n",
    "\n",
    "# Display the graph\n",
    "display(Image(local_slm_demo.get_graph().draw_mermaid_png()))\n",
    "\n",
    "stream = StreamProcessor(graph=local_slm_demo, logger=setup_logger(name=\"StreamProcessor\", level=\"INFO\"))\n",
    "\n",
    "# Set the input message\n",
    "input = [HumanMessage(content=\" ماهي إجراءات تعليق تداول الأوراق المالية المدرجة بناءً على طلب المصدر؟\")]\n",
    "\n",
    "print(f\"Question: \\n {input[0].content}\\n\")\n",
    "print(f\"Answer: \\n\")\n",
    "# Run the stream and print the chunks\n",
    "async for chunk in stream.process_stream(messages=input):\n",
    "    display(Markdown(chunk))"
   ]
  }
 ],
 "metadata": {
  "language_info": {
   "name": "python"
  }
 },
 "nbformat": 4,
 "nbformat_minor": 2
}
