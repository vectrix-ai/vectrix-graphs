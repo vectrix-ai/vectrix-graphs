{
 "cells": [
  {
   "cell_type": "markdown",
   "metadata": {},
   "source": [
    "# Multi-model embeddings\n",
    "In this notebook we will showcase the usage of multimodal embeddings using the new [voyage-multimodal-3](https://blog.voyageai.com/2024/11/12/voyage-multimodal-3/) all-in-one embedding model. This model allows us to store multimodal data within the same vector space. It is a state of the art I'm currently at the top of the benchmark list for a multimodal embedding retrieval.\n",
    "\n",
    "In this example tutorial, we will focus on the following three main things:\n",
    "\n",
    "- **Setting up a vector storage**, as most vector storage solutions are not yet supporting this model out of the box. We need to manually configure vector storage to be able to store these embeddings. We'll use Weaviate in this demo.\n",
    "\n",
    "- **Storing embeddings of multimodal documents within this store**. To do this, we'll need to break apart the text and images within a single PDF file, store them as a JSON component, and then add them in a single vector space to the Weaviate store.\n",
    "\n",
    "- **Performing a similarity search based on these stored images and embeddings**. We'll write a simple query to retrieve the most similar documents based on a natural language query.\n",
    "\n",
    "To test this pipeline we'll use a PDF from an old Photography magazine located here [./files/magazine.pdf](./files/magazine.pdf).\n",
    "\n",
    "### Requirements for this example\n",
    "\n",
    "- **Weaviate**: We'll use the local Weaviate instance that is provided with the Docker Compose file.\n",
    "- **Voyage API key**: You can get a free API key from [Voyage](https://voyageai.com/).\n",
    "- **Poppler**: This utility is needed to extract the images from the PDF file. You can install it on MacOS with `brew install poppler`.\n",
    "\n",
    "## Step 1: Setting up the vector storage\n",
    "We will use weaviate in combinatation with the [voyage-multimodal-3](https://blog.voyageai.com/2024/11/12/voyage-multimodal-3/) model.\n",
    "\n",
    "| Model | Context Length (tokens) | Embedding Dimension | Description |\n",
    "|-------|------------------------|-------------------|-------------|\n",
    "| voyage-multimodal-3 | 32,000 | 1024 | Rich multimodal embedding model that can vectorize interleaved text and content-rich images, such as screenshots of PDFs, slides, tables, figures, and more. See blog post for details. |\n",
    "\n",
    "\n",
    "### Connect to Weaviate and create a new collection\n",
    "In this first step we connect to a local Weaviate instance and then create a new collection named \"multimodal\". We don't configure a vectorizer for this collection since Weaviate does not support multimodal embeddings for the voyager model yet. "
   ]
  },
  {
   "cell_type": "code",
   "execution_count": 1,
   "metadata": {},
   "outputs": [],
   "source": [
    "import weaviate\n",
    "from weaviate.classes.config import Configure\n",
    "\n",
    "client = weaviate.connect_to_local()\n",
    "collection_name = \"multimodal\"\n",
    "\n",
    "client.collections.delete(collection_name)\n",
    "\n",
    "try:\n",
    "    client.collections.create(\n",
    "        name=collection_name,\n",
    "        vectorizer_config=Configure.Vectorizer.none() # Don't set a vectorizer for this collection\n",
    "    )\n",
    "    collection = client.collections.get(collection_name)\n",
    "except Exception:\n",
    "    collection = client.collections.get(collection_name)\n"
   ]
  },
  {
   "cell_type": "markdown",
   "metadata": {},
   "source": [
    "## Step 2: Extracting documents and images from the PDF\n",
    "For the extraction process we use the popular Unstructured library. What we do is we iterate through the PDF file using the `hi_res` strategy. We store the image data in the metadata as an image base 64 encoded string and the text content we will store in the page_content key. \n",
    "\n",
    "This step to work the [Poppler](https://poppler.freedesktop.org/) utility needs to be installed on your system or container. "
   ]
  },
  {
   "cell_type": "code",
   "execution_count": 3,
   "metadata": {},
   "outputs": [],
   "source": [
    "from unstructured.partition.auto import partition\n",
    "\n",
    "elements = partition(\n",
    "            filename=\"./files/magazine_sample.pdf\",\n",
    "            strategy=\"hi_res\",\n",
    "            extract_image_block_types=[\"Image\", \"Table\"],\n",
    "            extract_image_block_to_payload=True)"
   ]
  },
  {
   "cell_type": "code",
   "execution_count": 4,
   "metadata": {},
   "outputs": [],
   "source": [
    "from unstructured.chunking.title import chunk_by_title\n",
    "\n",
    "chunks = chunk_by_title(elements)"
   ]
  },
  {
   "cell_type": "code",
   "execution_count": 5,
   "metadata": {},
   "outputs": [],
   "source": [
    "from unstructured.staging.base import elements_from_base64_gzipped_json\n",
    "import PIL.Image\n",
    "import io\n",
    "import base64\n",
    "\n",
    "embedding_objects = []\n",
    "embedding_metadatas = []\n",
    "\n",
    "for chunk in chunks:\n",
    "    embedding_object = []\n",
    "    metedata_dict = {\n",
    "        \"text\": chunk.to_dict()[\"text\"],\n",
    "        \"filename\": chunk.to_dict()[\"metadata\"][\"filename\"],\n",
    "        \"page_number\": chunk.to_dict()[\"metadata\"][\"page_number\"],\n",
    "        \"last_modified\": chunk.to_dict()[\"metadata\"][\"last_modified\"],\n",
    "        \"languages\": chunk.to_dict()[\"metadata\"][\"languages\"],\n",
    "        \"filetype\": chunk.to_dict()[\"metadata\"][\"filetype\"]\n",
    "    }\n",
    "    embedding_object.append(chunk.to_dict()[\"text\"])\n",
    "\n",
    "    # Add the images to the embedding object\n",
    "    if \"orig_elements\" in chunk.to_dict()[\"metadata\"]:\n",
    "        base64_elements_str = chunk.to_dict()[\"metadata\"][\"orig_elements\"]\n",
    "        eles = elements_from_base64_gzipped_json(base64_elements_str)\n",
    "        image_data = []\n",
    "        for ele in eles:\n",
    "            if ele.to_dict()[\"type\"] == \"Image\":\n",
    "                base64_image = ele.to_dict()[\"metadata\"][\"image_base64\"]\n",
    "                image_data.append(base64_image)\n",
    "                pil_image = PIL.Image.open(io.BytesIO(base64.b64decode(base64_image)))\n",
    "                # Resize image if larger than 1000x1000 while maintaining aspect ratio\n",
    "                if pil_image.size[0] > 1000 or pil_image.size[1] > 1000:\n",
    "                    ratio = min(1000/pil_image.size[0], 1000/pil_image.size[1])\n",
    "                    new_size = (int(pil_image.size[0] * ratio), int(pil_image.size[1] * ratio))\n",
    "                    pil_image = pil_image.resize(new_size, PIL.Image.Resampling.LANCZOS)\n",
    "                embedding_object.append(pil_image)\n",
    "\n",
    "        metedata_dict[\"image_data\"] = image_data\n",
    "\n",
    "\n",
    "    embedding_objects.append(embedding_object)\n",
    "    embedding_metadatas.append(metedata_dict)"
   ]
  },
  {
   "cell_type": "code",
   "execution_count": null,
   "metadata": {},
   "outputs": [],
   "source": [
    "embedding_objects[:3]"
   ]
  },
  {
   "cell_type": "code",
   "execution_count": null,
   "metadata": {},
   "outputs": [],
   "source": [
    "print(len(embedding_objects))\n",
    "print(len(embedding_metadatas))"
   ]
  },
  {
   "cell_type": "markdown",
   "metadata": {},
   "source": [
    "## Step 3: Vectorizing the extracted data\n",
    "In this step we vectorize the extracted data using the Voyage API. We'll use the `voyage-multimodal-3` model to vectorize the text and images.\n",
    "Per chunk of data we provide an array of inputs. In this case we provide an array of strings for the text and an array of PIL images for the images."
   ]
  },
  {
   "cell_type": "code",
   "execution_count": 8,
   "metadata": {},
   "outputs": [],
   "source": [
    "from dotenv import load_dotenv\n",
    "import voyageai\n",
    "\n",
    "load_dotenv()\n",
    "\n",
    "vo = voyageai.Client()\n",
    "# This will automatically use the environment variable VOYAGE_API_KEY.\n",
    "# Alternatively, you can use vo = voyageai.Client(api_key=\"<your secret key>\")\n",
    "\n",
    "# Example input containing a text string and PIL image object\n",
    "inputs = embedding_objects\n",
    "# Vectorize inputs\n",
    "result = vo.multimodal_embed(\n",
    "    inputs, \n",
    "    model=\"voyage-multimodal-3\",\n",
    "    truncation=False\n",
    ")"
   ]
  },
  {
   "cell_type": "code",
   "execution_count": null,
   "metadata": {},
   "outputs": [],
   "source": [
    "print(f\"Shape of embeddings: {len(result.embeddings)}x{len(result.embeddings[0])}\")"
   ]
  },
  {
   "cell_type": "markdown",
   "metadata": {},
   "source": [
    "## Step 4: Storing the embeddings in Weaviate"
   ]
  },
  {
   "cell_type": "code",
   "execution_count": 10,
   "metadata": {},
   "outputs": [],
   "source": [
    "with collection.batch.dynamic() as batch:\n",
    "    for i, data_row in enumerate(embedding_objects):\n",
    "        batch.add_object(\n",
    "            properties=embedding_metadatas[i],\n",
    "            vector=result.embeddings[i]\n",
    "        )"
   ]
  },
  {
   "cell_type": "code",
   "execution_count": null,
   "metadata": {},
   "outputs": [],
   "source": [
    "response = collection.query.fetch_objects(limit=2, include_vector=True)\n",
    "\n",
    "for o in response.objects:\n",
    "    print(\"METADATA:\")\n",
    "    print(o.metadata, '\\n')\n",
    "    print(\"TEXT:\")\n",
    "    print(o.properties['text'], '\\n')\n",
    "    print(\"EMBEDDING:\")\n",
    "    print(o.vector['default'][:5], '\\n-----\\n')"
   ]
  },
  {
   "cell_type": "markdown",
   "metadata": {},
   "source": [
    "## Step 5: Performing a similarity search and displaying the results"
   ]
  },
  {
   "cell_type": "code",
   "execution_count": null,
   "metadata": {},
   "outputs": [],
   "source": [
    "from weaviate.classes.query import MetadataQuery\n",
    "\n",
    "question = \"What do magazines say about cats ?\"\n",
    "vector = vo.multimodal_embed([[question]], model=\"voyage-multimodal-3\")\n",
    "\n",
    "vector.embeddings[0]\n",
    "\n",
    "response = collection.query.near_vector(\n",
    "    near_vector=vector.embeddings[0], # your query vector goes here\n",
    "    limit=2,\n",
    "    return_metadata=MetadataQuery(distance=True)\n",
    ")\n",
    "\n",
    "for o in response.objects:\n",
    "    print(o.properties['text'])\n",
    "    for image_data in o.properties['image_data']:\n",
    "        # Display the image using PIL\n",
    "        img = PIL.Image.open(io.BytesIO(base64.b64decode(image_data)))\n",
    "        width, height = img.size\n",
    "        if width > 500 or height > 500:\n",
    "            ratio = min(500/width, 500/height)\n",
    "            new_size = (int(width * ratio), int(height * ratio))\n",
    "            img = img.resize(new_size)\n",
    "        display(img)\n",
    "    print(o.metadata.distance)"
   ]
  },
  {
   "cell_type": "markdown",
   "metadata": {},
   "source": [
    "# Vectrix Graphs Demo\n",
    "This demo showcases the same flow but with the Vectrix Graphs library. We contained the above code in classes and modules to showcase how this functionality is implemented in a LangGraph flow that can run in a production environment.\n",
    "\n",
    "### Adding the data"
   ]
  },
  {
   "cell_type": "code",
   "execution_count": null,
   "metadata": {},
   "outputs": [],
   "source": [
    "import sys\n",
    "sys.path.append('../src')\n",
    "from dotenv import load_dotenv\n",
    "from vectrix_graphs.importers.documents import multi_modal_extraction\n",
    "from vectrix_graphs.db.weaviate import Weaviate\n",
    "\n",
    "load_dotenv()\n",
    "file = './files/magazine.pdf'\n",
    "\n",
    "# Extract the documents and images from the file and the related metadata\n",
    "embedding_objects, metadatas = multi_modal_extraction(file)\n",
    "\n",
    "weaviate = Weaviate()\n",
    "# Let's re create the collection, to make sure we start from a clean state\n",
    "weaviate.remove_collection(\"multimodal_demo\")\n",
    "weaviate.create_collection(name=\"multimodal_demo\", vectorizer_config=\"voyage\")\n",
    "\n",
    "weaviate.add_multi_modal_documents(embedding_objects, metadatas)"
   ]
  },
  {
   "cell_type": "code",
   "execution_count": 2,
   "metadata": {},
   "outputs": [],
   "source": [
    "weaviate = Weaviate()\n",
    "weaviate.set_collection(\"multimodal_demo\")\n",
    "results = weaviate.similarity_search(\"What do magazines say about cats ?\", k=10, type=\"multimodal\")"
   ]
  },
  {
   "cell_type": "code",
   "execution_count": null,
   "metadata": {},
   "outputs": [],
   "source": [
    "for result in results:\n",
    "    print(result.page_content)"
   ]
  },
  {
   "cell_type": "code",
   "execution_count": 5,
   "metadata": {},
   "outputs": [],
   "source": [
    "weaviate.close()"
   ]
  },
  {
   "cell_type": "code",
   "execution_count": 1,
   "metadata": {},
   "outputs": [
    {
     "name": "stderr",
     "output_type": "stream",
     "text": [
      "\u001b[32m2024-11-23 13:36:18,861 - vectrix_graphs.graphs.default_flow - INFO - GraphNodes initialized\u001b[0m\n"
     ]
    },
    {
     "data": {
      "image/png": "[encoded data removed]",
      "text/plain": [
       "<IPython.core.display.Image object>"
      ]
     },
     "metadata": {},
     "output_type": "display_data"
    }
   ],
   "source": [
    "import sys\n",
    "sys.path.append('../src')\n",
    "from dotenv import load_dotenv\n",
    "from vectrix_graphs.graphs.multi_modal_rag import multi_modal_graph\n",
    "from langchain_core.messages import HumanMessage\n",
    "\n",
    "from IPython.display import Markdown, display, Image\n",
    "\n",
    "display(Image(multi_modal_graph.get_graph().draw_mermaid_png()))"
   ]
  },
  {
   "cell_type": "code",
   "execution_count": 16,
   "metadata": {},
   "outputs": [],
   "source": [
    "from vectrix_graphs.db.weaviate import Weaviate\n",
    "weaviate = Weaviate()\n",
    "weaviate.list_collections()\n",
    "weaviate.close()"
   ]
  },
  {
   "cell_type": "code",
   "execution_count": 15,
   "metadata": {},
   "outputs": [
    {
     "name": "stdout",
     "output_type": "stream",
     "text": [
      "Running multi-modal retrieval\n",
      "Searching for What does the magazine say about cats ?\n"
     ]
    },
    {
     "ename": "WeaviateQueryError",
     "evalue": "Query call with protocol GRPC search failed with message <AioRpcError of RPC that terminated with:\n\tstatus = StatusCode.UNKNOWN\n\tdetails = \"explorer: get class: concurrentTargetVectorSearch): explorer: get class: vector search: object vector search at index multimodal_demo: get/init local shard \"vx9LGkg23vV8\", no shutdown: LazyLoadShard::preventShutdown: Unable to load shard vx9LGkg23vV8: init shard \"multimodal_demo_vx9LGkg23vV8\": init shard \"multimodal_demo_vx9LGkg23vV8\": init prop \"image_data\": value index: init disk segments: init segment segment-1732277752996229589.db: unexpected error loading segment \"/var/lib/weaviate/multimodal_demo/vx9LGkg23vV8/lsm/property_image_data_searchable/segment-1732277752996229589.db\": runtime error: slice bounds out of range [:964191095] with capacity 33073818\"\n\tdebug_error_string = \"UNKNOWN:Error received from peer  {created_time:\"2024-11-23T12:47:59.270112+00:00\", grpc_status:2, grpc_message:\"explorer: get class: concurrentTargetVectorSearch): explorer: get class: vector search: object vector search at index multimodal_demo: get/init local shard \\\"vx9LGkg23vV8\\\", no shutdown: LazyLoadShard::preventShutdown: Unable to load shard vx9LGkg23vV8: init shard \\\"multimodal_demo_vx9LGkg23vV8\\\": init shard \\\"multimodal_demo_vx9LGkg23vV8\\\": init prop \\\"image_data\\\": value index: init disk segments: init segment segment-1732277752996229589.db: unexpected error loading segment \\\"/var/lib/weaviate/multimodal_demo/vx9LGkg23vV8/lsm/property_image_data_searchable/segment-1732277752996229589.db\\\": runtime error: slice bounds out of range [:964191095] with capacity 33073818\"}\"\n>.",
     "output_type": "error",
     "traceback": [
      "\u001b[0;31m---------------------------------------------------------------------------\u001b[0m",
      "\u001b[0;31mAioRpcError\u001b[0m                               Traceback (most recent call last)",
      "File \u001b[0;32m~/Documents/GitHub/vectrix-graphs/.venv/lib/python3.11/site-packages/weaviate/collections/grpc/query.py:804\u001b[0m, in \u001b[0;36m_QueryGRPC.__call\u001b[0;34m(self, request)\u001b[0m\n\u001b[1;32m    803\u001b[0m \u001b[38;5;28;01massert\u001b[39;00m \u001b[38;5;28mself\u001b[39m\u001b[38;5;241m.\u001b[39m_connection\u001b[38;5;241m.\u001b[39mgrpc_stub \u001b[38;5;129;01mis\u001b[39;00m \u001b[38;5;129;01mnot\u001b[39;00m \u001b[38;5;28;01mNone\u001b[39;00m\n\u001b[0;32m--> 804\u001b[0m res \u001b[38;5;241m=\u001b[39m \u001b[38;5;28;01mawait\u001b[39;00m _Retry(\u001b[38;5;241m4\u001b[39m)\u001b[38;5;241m.\u001b[39mwith_exponential_backoff(\n\u001b[1;32m    805\u001b[0m     \u001b[38;5;241m0\u001b[39m,\n\u001b[1;32m    806\u001b[0m     \u001b[38;5;124mf\u001b[39m\u001b[38;5;124m\"\u001b[39m\u001b[38;5;124mSearching in collection \u001b[39m\u001b[38;5;132;01m{\u001b[39;00mrequest\u001b[38;5;241m.\u001b[39mcollection\u001b[38;5;132;01m}\u001b[39;00m\u001b[38;5;124m\"\u001b[39m,\n\u001b[1;32m    807\u001b[0m     \u001b[38;5;28mself\u001b[39m\u001b[38;5;241m.\u001b[39m_connection\u001b[38;5;241m.\u001b[39mgrpc_stub\u001b[38;5;241m.\u001b[39mSearch,\n\u001b[1;32m    808\u001b[0m     request,\n\u001b[1;32m    809\u001b[0m     metadata\u001b[38;5;241m=\u001b[39m\u001b[38;5;28mself\u001b[39m\u001b[38;5;241m.\u001b[39m_connection\u001b[38;5;241m.\u001b[39mgrpc_headers(),\n\u001b[1;32m    810\u001b[0m     timeout\u001b[38;5;241m=\u001b[39m\u001b[38;5;28mself\u001b[39m\u001b[38;5;241m.\u001b[39m_connection\u001b[38;5;241m.\u001b[39mtimeout_config\u001b[38;5;241m.\u001b[39mquery,\n\u001b[1;32m    811\u001b[0m )\n\u001b[1;32m    812\u001b[0m \u001b[38;5;28;01mreturn\u001b[39;00m cast(search_get_pb2\u001b[38;5;241m.\u001b[39mSearchReply, res)\n",
      "File \u001b[0;32m~/Documents/GitHub/vectrix-graphs/.venv/lib/python3.11/site-packages/weaviate/collections/grpc/retry.py:31\u001b[0m, in \u001b[0;36m_Retry.with_exponential_backoff\u001b[0;34m(self, count, error, f, *args, **kwargs)\u001b[0m\n\u001b[1;32m     30\u001b[0m \u001b[38;5;28;01mif\u001b[39;00m e\u001b[38;5;241m.\u001b[39mcode() \u001b[38;5;241m!=\u001b[39m StatusCode\u001b[38;5;241m.\u001b[39mUNAVAILABLE:\n\u001b[0;32m---> 31\u001b[0m     \u001b[38;5;28;01mraise\u001b[39;00m e\n\u001b[1;32m     32\u001b[0m logger\u001b[38;5;241m.\u001b[39minfo(\n\u001b[1;32m     33\u001b[0m     \u001b[38;5;124mf\u001b[39m\u001b[38;5;124m\"\u001b[39m\u001b[38;5;132;01m{\u001b[39;00merror\u001b[38;5;132;01m}\u001b[39;00m\u001b[38;5;124m received exception: \u001b[39m\u001b[38;5;132;01m{\u001b[39;00me\u001b[38;5;132;01m}\u001b[39;00m\u001b[38;5;124m. Retrying with exponential backoff in \u001b[39m\u001b[38;5;132;01m{\u001b[39;00m\u001b[38;5;241m2\u001b[39m\u001b[38;5;241m*\u001b[39m\u001b[38;5;241m*\u001b[39mcount\u001b[38;5;132;01m}\u001b[39;00m\u001b[38;5;124m seconds\u001b[39m\u001b[38;5;124m\"\u001b[39m\n\u001b[1;32m     34\u001b[0m )\n",
      "File \u001b[0;32m~/Documents/GitHub/vectrix-graphs/.venv/lib/python3.11/site-packages/weaviate/collections/grpc/retry.py:28\u001b[0m, in \u001b[0;36m_Retry.with_exponential_backoff\u001b[0;34m(self, count, error, f, *args, **kwargs)\u001b[0m\n\u001b[1;32m     27\u001b[0m \u001b[38;5;28;01mtry\u001b[39;00m:\n\u001b[0;32m---> 28\u001b[0m     \u001b[38;5;28;01mreturn\u001b[39;00m \u001b[38;5;28;01mawait\u001b[39;00m f(\u001b[38;5;241m*\u001b[39margs, \u001b[38;5;241m*\u001b[39m\u001b[38;5;241m*\u001b[39mkwargs)\n\u001b[1;32m     29\u001b[0m \u001b[38;5;28;01mexcept\u001b[39;00m AioRpcError \u001b[38;5;28;01mas\u001b[39;00m e:\n",
      "File \u001b[0;32m~/Documents/GitHub/vectrix-graphs/.venv/lib/python3.11/site-packages/grpc/aio/_call.py:327\u001b[0m, in \u001b[0;36m_UnaryResponseMixin.__await__\u001b[0;34m(self)\u001b[0m\n\u001b[1;32m    326\u001b[0m     \u001b[38;5;28;01melse\u001b[39;00m:\n\u001b[0;32m--> 327\u001b[0m         \u001b[38;5;28;01mraise\u001b[39;00m _create_rpc_error(\n\u001b[1;32m    328\u001b[0m             \u001b[38;5;28mself\u001b[39m\u001b[38;5;241m.\u001b[39m_cython_call\u001b[38;5;241m.\u001b[39m_initial_metadata,\n\u001b[1;32m    329\u001b[0m             \u001b[38;5;28mself\u001b[39m\u001b[38;5;241m.\u001b[39m_cython_call\u001b[38;5;241m.\u001b[39m_status,\n\u001b[1;32m    330\u001b[0m         )\n\u001b[1;32m    331\u001b[0m \u001b[38;5;28;01melse\u001b[39;00m:\n",
      "\u001b[0;31mAioRpcError\u001b[0m: <AioRpcError of RPC that terminated with:\n\tstatus = StatusCode.UNKNOWN\n\tdetails = \"explorer: get class: concurrentTargetVectorSearch): explorer: get class: vector search: object vector search at index multimodal_demo: get/init local shard \"vx9LGkg23vV8\", no shutdown: LazyLoadShard::preventShutdown: Unable to load shard vx9LGkg23vV8: init shard \"multimodal_demo_vx9LGkg23vV8\": init shard \"multimodal_demo_vx9LGkg23vV8\": init prop \"image_data\": value index: init disk segments: init segment segment-1732277752996229589.db: unexpected error loading segment \"/var/lib/weaviate/multimodal_demo/vx9LGkg23vV8/lsm/property_image_data_searchable/segment-1732277752996229589.db\": runtime error: slice bounds out of range [:964191095] with capacity 33073818\"\n\tdebug_error_string = \"UNKNOWN:Error received from peer  {created_time:\"2024-11-23T12:47:59.270112+00:00\", grpc_status:2, grpc_message:\"explorer: get class: concurrentTargetVectorSearch): explorer: get class: vector search: object vector search at index multimodal_demo: get/init local shard \\\"vx9LGkg23vV8\\\", no shutdown: LazyLoadShard::preventShutdown: Unable to load shard vx9LGkg23vV8: init shard \\\"multimodal_demo_vx9LGkg23vV8\\\": init shard \\\"multimodal_demo_vx9LGkg23vV8\\\": init prop \\\"image_data\\\": value index: init disk segments: init segment segment-1732277752996229589.db: unexpected error loading segment \\\"/var/lib/weaviate/multimodal_demo/vx9LGkg23vV8/lsm/property_image_data_searchable/segment-1732277752996229589.db\\\": runtime error: slice bounds out of range [:964191095] with capacity 33073818\"}\"\n>",
      "\nDuring handling of the above exception, another exception occurred:\n",
      "\u001b[0;31mWeaviateQueryError\u001b[0m                        Traceback (most recent call last)",
      "Cell \u001b[0;32mIn[15], line 7\u001b[0m\n\u001b[1;32m      4\u001b[0m config \u001b[38;5;241m=\u001b[39m {\u001b[38;5;124m\"\u001b[39m\u001b[38;5;124mconfigurable\u001b[39m\u001b[38;5;124m\"\u001b[39m: {\u001b[38;5;124m\"\u001b[39m\u001b[38;5;124mcollection_name\u001b[39m\u001b[38;5;124m\"\u001b[39m: \u001b[38;5;124m\"\u001b[39m\u001b[38;5;124mmultimodal_demo\u001b[39m\u001b[38;5;124m\"\u001b[39m, \u001b[38;5;124m\"\u001b[39m\u001b[38;5;124minclude_images\u001b[39m\u001b[38;5;124m\"\u001b[39m: \u001b[38;5;28;01mTrue\u001b[39;00m}}\n\u001b[1;32m      6\u001b[0m \u001b[38;5;66;03m# Run the graph\u001b[39;00m\n\u001b[0;32m----> 7\u001b[0m response \u001b[38;5;241m=\u001b[39m \u001b[38;5;28;01mawait\u001b[39;00m multi_modal_graph\u001b[38;5;241m.\u001b[39mainvoke({\u001b[38;5;124m\"\u001b[39m\u001b[38;5;124mmessages\u001b[39m\u001b[38;5;124m\"\u001b[39m: input_message}, config\u001b[38;5;241m=\u001b[39mconfig)\n\u001b[1;32m      8\u001b[0m \u001b[38;5;28mprint\u001b[39m(response[\u001b[38;5;124m'\u001b[39m\u001b[38;5;124mmessages\u001b[39m\u001b[38;5;124m'\u001b[39m][\u001b[38;5;241m-\u001b[39m\u001b[38;5;241m1\u001b[39m]\u001b[38;5;241m.\u001b[39mcontent)\n",
      "File \u001b[0;32m~/Documents/GitHub/vectrix-graphs/.venv/lib/python3.11/site-packages/langgraph/pregel/__init__.py:1980\u001b[0m, in \u001b[0;36mPregel.ainvoke\u001b[0;34m(self, input, config, stream_mode, output_keys, interrupt_before, interrupt_after, debug, **kwargs)\u001b[0m\n\u001b[1;32m   1978\u001b[0m \u001b[38;5;28;01melse\u001b[39;00m:\n\u001b[1;32m   1979\u001b[0m     chunks \u001b[38;5;241m=\u001b[39m []\n\u001b[0;32m-> 1980\u001b[0m \u001b[38;5;28;01masync\u001b[39;00m \u001b[38;5;28;01mfor\u001b[39;00m chunk \u001b[38;5;129;01min\u001b[39;00m \u001b[38;5;28mself\u001b[39m\u001b[38;5;241m.\u001b[39mastream(\n\u001b[1;32m   1981\u001b[0m     \u001b[38;5;28minput\u001b[39m,\n\u001b[1;32m   1982\u001b[0m     config,\n\u001b[1;32m   1983\u001b[0m     stream_mode\u001b[38;5;241m=\u001b[39mstream_mode,\n\u001b[1;32m   1984\u001b[0m     output_keys\u001b[38;5;241m=\u001b[39moutput_keys,\n\u001b[1;32m   1985\u001b[0m     interrupt_before\u001b[38;5;241m=\u001b[39minterrupt_before,\n\u001b[1;32m   1986\u001b[0m     interrupt_after\u001b[38;5;241m=\u001b[39minterrupt_after,\n\u001b[1;32m   1987\u001b[0m     debug\u001b[38;5;241m=\u001b[39mdebug,\n\u001b[1;32m   1988\u001b[0m     \u001b[38;5;241m*\u001b[39m\u001b[38;5;241m*\u001b[39mkwargs,\n\u001b[1;32m   1989\u001b[0m ):\n\u001b[1;32m   1990\u001b[0m     \u001b[38;5;28;01mif\u001b[39;00m stream_mode \u001b[38;5;241m==\u001b[39m \u001b[38;5;124m\"\u001b[39m\u001b[38;5;124mvalues\u001b[39m\u001b[38;5;124m\"\u001b[39m:\n\u001b[1;32m   1991\u001b[0m         latest \u001b[38;5;241m=\u001b[39m chunk\n",
      "File \u001b[0;32m~/Documents/GitHub/vectrix-graphs/.venv/lib/python3.11/site-packages/langgraph/pregel/__init__.py:1865\u001b[0m, in \u001b[0;36mPregel.astream\u001b[0;34m(self, input, config, stream_mode, output_keys, interrupt_before, interrupt_after, debug, subgraphs)\u001b[0m\n\u001b[1;32m   1859\u001b[0m \u001b[38;5;66;03m# Similarly to Bulk Synchronous Parallel / Pregel model\u001b[39;00m\n\u001b[1;32m   1860\u001b[0m \u001b[38;5;66;03m# computation proceeds in steps, while there are channel updates\u001b[39;00m\n\u001b[1;32m   1861\u001b[0m \u001b[38;5;66;03m# channel updates from step N are only visible in step N+1\u001b[39;00m\n\u001b[1;32m   1862\u001b[0m \u001b[38;5;66;03m# channels are guaranteed to be immutable for the duration of the step,\u001b[39;00m\n\u001b[1;32m   1863\u001b[0m \u001b[38;5;66;03m# with channel updates applied only at the transition between steps\u001b[39;00m\n\u001b[1;32m   1864\u001b[0m \u001b[38;5;28;01mwhile\u001b[39;00m loop\u001b[38;5;241m.\u001b[39mtick(input_keys\u001b[38;5;241m=\u001b[39m\u001b[38;5;28mself\u001b[39m\u001b[38;5;241m.\u001b[39minput_channels):\n\u001b[0;32m-> 1865\u001b[0m     \u001b[38;5;28;01masync\u001b[39;00m \u001b[38;5;28;01mfor\u001b[39;00m _ \u001b[38;5;129;01min\u001b[39;00m runner\u001b[38;5;241m.\u001b[39matick(\n\u001b[1;32m   1866\u001b[0m         loop\u001b[38;5;241m.\u001b[39mtasks\u001b[38;5;241m.\u001b[39mvalues(),\n\u001b[1;32m   1867\u001b[0m         timeout\u001b[38;5;241m=\u001b[39m\u001b[38;5;28mself\u001b[39m\u001b[38;5;241m.\u001b[39mstep_timeout,\n\u001b[1;32m   1868\u001b[0m         retry_policy\u001b[38;5;241m=\u001b[39m\u001b[38;5;28mself\u001b[39m\u001b[38;5;241m.\u001b[39mretry_policy,\n\u001b[1;32m   1869\u001b[0m         get_waiter\u001b[38;5;241m=\u001b[39mget_waiter,\n\u001b[1;32m   1870\u001b[0m     ):\n\u001b[1;32m   1871\u001b[0m         \u001b[38;5;66;03m# emit output\u001b[39;00m\n\u001b[1;32m   1872\u001b[0m         \u001b[38;5;28;01mfor\u001b[39;00m o \u001b[38;5;129;01min\u001b[39;00m output():\n\u001b[1;32m   1873\u001b[0m             \u001b[38;5;28;01myield\u001b[39;00m o\n",
      "File \u001b[0;32m~/Documents/GitHub/vectrix-graphs/.venv/lib/python3.11/site-packages/langgraph/pregel/runner.py:221\u001b[0m, in \u001b[0;36mPregelRunner.atick\u001b[0;34m(self, tasks, reraise, timeout, retry_policy, get_waiter)\u001b[0m\n\u001b[1;32m    219\u001b[0m t \u001b[38;5;241m=\u001b[39m tasks[\u001b[38;5;241m0\u001b[39m]\n\u001b[1;32m    220\u001b[0m \u001b[38;5;28;01mtry\u001b[39;00m:\n\u001b[0;32m--> 221\u001b[0m     \u001b[38;5;28;01mawait\u001b[39;00m arun_with_retry(\n\u001b[1;32m    222\u001b[0m         t, retry_policy, stream\u001b[38;5;241m=\u001b[39m\u001b[38;5;28mself\u001b[39m\u001b[38;5;241m.\u001b[39muse_astream, writer\u001b[38;5;241m=\u001b[39mwriter\n\u001b[1;32m    223\u001b[0m     )\n\u001b[1;32m    224\u001b[0m     \u001b[38;5;28mself\u001b[39m\u001b[38;5;241m.\u001b[39mcommit(t, \u001b[38;5;28;01mNone\u001b[39;00m)\n\u001b[1;32m    225\u001b[0m \u001b[38;5;28;01mexcept\u001b[39;00m \u001b[38;5;167;01mException\u001b[39;00m \u001b[38;5;28;01mas\u001b[39;00m exc:\n",
      "File \u001b[0;32m~/Documents/GitHub/vectrix-graphs/.venv/lib/python3.11/site-packages/langgraph/pregel/retry.py:118\u001b[0m, in \u001b[0;36marun_with_retry\u001b[0;34m(task, retry_policy, stream, writer)\u001b[0m\n\u001b[1;32m    116\u001b[0m         \u001b[38;5;28;01mpass\u001b[39;00m\n\u001b[1;32m    117\u001b[0m \u001b[38;5;28;01melse\u001b[39;00m:\n\u001b[0;32m--> 118\u001b[0m     \u001b[38;5;28;01mawait\u001b[39;00m task\u001b[38;5;241m.\u001b[39mproc\u001b[38;5;241m.\u001b[39mainvoke(task\u001b[38;5;241m.\u001b[39minput, config)\n\u001b[1;32m    119\u001b[0m \u001b[38;5;66;03m# if successful, end\u001b[39;00m\n\u001b[1;32m    120\u001b[0m \u001b[38;5;28;01mbreak\u001b[39;00m\n",
      "File \u001b[0;32m~/Documents/GitHub/vectrix-graphs/.venv/lib/python3.11/site-packages/langgraph/utils/runnable.py:453\u001b[0m, in \u001b[0;36mRunnableSeq.ainvoke\u001b[0;34m(self, input, config, **kwargs)\u001b[0m\n\u001b[1;32m    451\u001b[0m     coro \u001b[38;5;241m=\u001b[39m step\u001b[38;5;241m.\u001b[39mainvoke(\u001b[38;5;28minput\u001b[39m, config)\n\u001b[1;32m    452\u001b[0m \u001b[38;5;28;01mif\u001b[39;00m ASYNCIO_ACCEPTS_CONTEXT:\n\u001b[0;32m--> 453\u001b[0m     \u001b[38;5;28minput\u001b[39m \u001b[38;5;241m=\u001b[39m \u001b[38;5;28;01mawait\u001b[39;00m asyncio\u001b[38;5;241m.\u001b[39mcreate_task(coro, context\u001b[38;5;241m=\u001b[39mcontext)\n\u001b[1;32m    454\u001b[0m \u001b[38;5;28;01melse\u001b[39;00m:\n\u001b[1;32m    455\u001b[0m     \u001b[38;5;28minput\u001b[39m \u001b[38;5;241m=\u001b[39m \u001b[38;5;28;01mawait\u001b[39;00m asyncio\u001b[38;5;241m.\u001b[39mcreate_task(coro)\n",
      "File \u001b[0;32m~/Documents/GitHub/vectrix-graphs/.venv/lib/python3.11/site-packages/langgraph/utils/runnable.py:236\u001b[0m, in \u001b[0;36mRunnableCallable.ainvoke\u001b[0;34m(self, input, config, **kwargs)\u001b[0m\n\u001b[1;32m    234\u001b[0m \u001b[38;5;28;01mif\u001b[39;00m ASYNCIO_ACCEPTS_CONTEXT:\n\u001b[1;32m    235\u001b[0m     coro \u001b[38;5;241m=\u001b[39m cast(Coroutine[\u001b[38;5;28;01mNone\u001b[39;00m, \u001b[38;5;28;01mNone\u001b[39;00m, Any], \u001b[38;5;28mself\u001b[39m\u001b[38;5;241m.\u001b[39mafunc(\u001b[38;5;28minput\u001b[39m, \u001b[38;5;241m*\u001b[39m\u001b[38;5;241m*\u001b[39mkwargs))\n\u001b[0;32m--> 236\u001b[0m     ret \u001b[38;5;241m=\u001b[39m \u001b[38;5;28;01mawait\u001b[39;00m asyncio\u001b[38;5;241m.\u001b[39mcreate_task(coro, context\u001b[38;5;241m=\u001b[39mcontext)\n\u001b[1;32m    237\u001b[0m \u001b[38;5;28;01melse\u001b[39;00m:\n\u001b[1;32m    238\u001b[0m     ret \u001b[38;5;241m=\u001b[39m \u001b[38;5;28;01mawait\u001b[39;00m \u001b[38;5;28mself\u001b[39m\u001b[38;5;241m.\u001b[39mafunc(\u001b[38;5;28minput\u001b[39m, \u001b[38;5;241m*\u001b[39m\u001b[38;5;241m*\u001b[39mkwargs)\n",
      "File \u001b[0;32m~/Documents/GitHub/vectrix-graphs/examples/../src/vectrix_graphs/graphs/nodes/multi_modal_rag.py:32\u001b[0m, in \u001b[0;36mRAGNodes.multi_modal_retrieval\u001b[0;34m(self, state, config)\u001b[0m\n\u001b[1;32m     29\u001b[0m \u001b[38;5;28mprint\u001b[39m(\u001b[38;5;124m\"\u001b[39m\u001b[38;5;124mRunning multi-modal retrieval\u001b[39m\u001b[38;5;124m\"\u001b[39m)\n\u001b[1;32m     30\u001b[0m \u001b[38;5;28mprint\u001b[39m(\u001b[38;5;124mf\u001b[39m\u001b[38;5;124m\"\u001b[39m\u001b[38;5;124mSearching for \u001b[39m\u001b[38;5;132;01m{\u001b[39;00mstate[\u001b[38;5;124m'\u001b[39m\u001b[38;5;124mmessages\u001b[39m\u001b[38;5;124m'\u001b[39m][\u001b[38;5;241m-\u001b[39m\u001b[38;5;241m1\u001b[39m]\u001b[38;5;241m.\u001b[39mcontent\u001b[38;5;132;01m}\u001b[39;00m\u001b[38;5;124m\"\u001b[39m)\n\u001b[0;32m---> 32\u001b[0m results \u001b[38;5;241m=\u001b[39m \u001b[38;5;28;43mself\u001b[39;49m\u001b[38;5;241;43m.\u001b[39;49m\u001b[43mweaviate\u001b[49m\u001b[38;5;241;43m.\u001b[39;49m\u001b[43msimilarity_search\u001b[49m\u001b[43m(\u001b[49m\n\u001b[1;32m     33\u001b[0m \u001b[43m    \u001b[49m\u001b[43mquery\u001b[49m\u001b[38;5;241;43m=\u001b[39;49m\u001b[43mstate\u001b[49m\u001b[43m[\u001b[49m\u001b[38;5;124;43m\"\u001b[39;49m\u001b[38;5;124;43mmessages\u001b[39;49m\u001b[38;5;124;43m\"\u001b[39;49m\u001b[43m]\u001b[49m\u001b[43m[\u001b[49m\u001b[38;5;241;43m-\u001b[39;49m\u001b[38;5;241;43m1\u001b[39;49m\u001b[43m]\u001b[49m\u001b[38;5;241;43m.\u001b[39;49m\u001b[43mcontent\u001b[49m\u001b[43m,\u001b[49m\n\u001b[1;32m     34\u001b[0m \u001b[43m    \u001b[49m\u001b[43mk\u001b[49m\u001b[38;5;241;43m=\u001b[39;49m\u001b[38;5;241;43m3\u001b[39;49m\u001b[43m,\u001b[49m\n\u001b[1;32m     35\u001b[0m \u001b[43m    \u001b[49m\u001b[38;5;28;43mtype\u001b[39;49m\u001b[38;5;241;43m=\u001b[39;49m\u001b[38;5;124;43m\"\u001b[39;49m\u001b[38;5;124;43mmultimodal\u001b[39;49m\u001b[38;5;124;43m\"\u001b[39;49m\n\u001b[1;32m     36\u001b[0m \u001b[43m\u001b[49m\u001b[43m)\u001b[49m\n\u001b[1;32m     37\u001b[0m \u001b[38;5;28;01mreturn\u001b[39;00m {\u001b[38;5;124m\"\u001b[39m\u001b[38;5;124mresults\u001b[39m\u001b[38;5;124m\"\u001b[39m: results}\n",
      "File \u001b[0;32m~/Documents/GitHub/vectrix-graphs/examples/../src/vectrix_graphs/db/weaviate.py:137\u001b[0m, in \u001b[0;36mWeaviate.similarity_search\u001b[0;34m(self, query, k, type)\u001b[0m\n\u001b[1;32m    135\u001b[0m vo \u001b[38;5;241m=\u001b[39m voyageai\u001b[38;5;241m.\u001b[39mClient()\n\u001b[1;32m    136\u001b[0m vector \u001b[38;5;241m=\u001b[39m vo\u001b[38;5;241m.\u001b[39mmultimodal_embed([[query]], model\u001b[38;5;241m=\u001b[39m\u001b[38;5;124m\"\u001b[39m\u001b[38;5;124mvoyage-multimodal-3\u001b[39m\u001b[38;5;124m\"\u001b[39m, truncation\u001b[38;5;241m=\u001b[39m\u001b[38;5;28;01mFalse\u001b[39;00m)\n\u001b[0;32m--> 137\u001b[0m results \u001b[38;5;241m=\u001b[39m \u001b[38;5;28;43mself\u001b[39;49m\u001b[38;5;241;43m.\u001b[39;49m\u001b[43mcollection\u001b[49m\u001b[38;5;241;43m.\u001b[39;49m\u001b[43mquery\u001b[49m\u001b[38;5;241;43m.\u001b[39;49m\u001b[43mnear_vector\u001b[49m\u001b[43m(\u001b[49m\n\u001b[1;32m    138\u001b[0m \u001b[43m    \u001b[49m\u001b[43mnear_vector\u001b[49m\u001b[38;5;241;43m=\u001b[39;49m\u001b[43mvector\u001b[49m\u001b[38;5;241;43m.\u001b[39;49m\u001b[43membeddings\u001b[49m\u001b[43m[\u001b[49m\u001b[38;5;241;43m0\u001b[39;49m\u001b[43m]\u001b[49m\u001b[43m,\u001b[49m\n\u001b[1;32m    139\u001b[0m \u001b[43m    \u001b[49m\u001b[43mlimit\u001b[49m\u001b[38;5;241;43m=\u001b[39;49m\u001b[43mk\u001b[49m\u001b[43m,\u001b[49m\n\u001b[1;32m    140\u001b[0m \u001b[43m    \u001b[49m\u001b[43mreturn_metadata\u001b[49m\u001b[38;5;241;43m=\u001b[39;49m\u001b[43mMetadataQuery\u001b[49m\u001b[43m(\u001b[49m\u001b[43mdistance\u001b[49m\u001b[38;5;241;43m=\u001b[39;49m\u001b[38;5;28;43;01mTrue\u001b[39;49;00m\u001b[43m)\u001b[49m\n\u001b[1;32m    141\u001b[0m \u001b[43m\u001b[49m\u001b[43m)\u001b[49m\n\u001b[1;32m    143\u001b[0m documents \u001b[38;5;241m=\u001b[39m []\n\u001b[1;32m    145\u001b[0m \u001b[38;5;28;01mfor\u001b[39;00m obj \u001b[38;5;129;01min\u001b[39;00m results\u001b[38;5;241m.\u001b[39mobjects:\n",
      "File \u001b[0;32m~/Documents/GitHub/vectrix-graphs/.venv/lib/python3.11/site-packages/weaviate/syncify.py:23\u001b[0m, in \u001b[0;36mconvert.<locals>.sync_method\u001b[0;34m(self, __new_name, *args, **kwargs)\u001b[0m\n\u001b[1;32m     20\u001b[0m \u001b[38;5;129m@wraps\u001b[39m(method)  \u001b[38;5;66;03m# type: ignore\u001b[39;00m\n\u001b[1;32m     21\u001b[0m \u001b[38;5;28;01mdef\u001b[39;00m \u001b[38;5;21msync_method\u001b[39m(\u001b[38;5;28mself\u001b[39m, \u001b[38;5;241m*\u001b[39margs, __new_name\u001b[38;5;241m=\u001b[39mnew_name, \u001b[38;5;241m*\u001b[39m\u001b[38;5;241m*\u001b[39mkwargs):\n\u001b[1;32m     22\u001b[0m     async_func \u001b[38;5;241m=\u001b[39m \u001b[38;5;28mgetattr\u001b[39m(\u001b[38;5;28mcls\u001b[39m, __new_name)\n\u001b[0;32m---> 23\u001b[0m     \u001b[38;5;28;01mreturn\u001b[39;00m \u001b[43m_EventLoopSingleton\u001b[49m\u001b[38;5;241;43m.\u001b[39;49m\u001b[43mget_instance\u001b[49m\u001b[43m(\u001b[49m\u001b[43m)\u001b[49m\u001b[38;5;241;43m.\u001b[39;49m\u001b[43mrun_until_complete\u001b[49m\u001b[43m(\u001b[49m\n\u001b[1;32m     24\u001b[0m \u001b[43m        \u001b[49m\u001b[43masync_func\u001b[49m\u001b[43m,\u001b[49m\u001b[43m \u001b[49m\u001b[38;5;28;43mself\u001b[39;49m\u001b[43m,\u001b[49m\u001b[43m \u001b[49m\u001b[38;5;241;43m*\u001b[39;49m\u001b[43margs\u001b[49m\u001b[43m,\u001b[49m\u001b[43m \u001b[49m\u001b[38;5;241;43m*\u001b[39;49m\u001b[38;5;241;43m*\u001b[39;49m\u001b[43mkwargs\u001b[49m\n\u001b[1;32m     25\u001b[0m \u001b[43m    \u001b[49m\u001b[43m)\u001b[49m\n",
      "File \u001b[0;32m~/Documents/GitHub/vectrix-graphs/.venv/lib/python3.11/site-packages/weaviate/event_loop.py:42\u001b[0m, in \u001b[0;36m_EventLoop.run_until_complete\u001b[0;34m(self, f, *args, **kwargs)\u001b[0m\n\u001b[1;32m     40\u001b[0m     \u001b[38;5;28;01mraise\u001b[39;00m WeaviateClosedClientError()\n\u001b[1;32m     41\u001b[0m fut \u001b[38;5;241m=\u001b[39m asyncio\u001b[38;5;241m.\u001b[39mrun_coroutine_threadsafe(f(\u001b[38;5;241m*\u001b[39margs, \u001b[38;5;241m*\u001b[39m\u001b[38;5;241m*\u001b[39mkwargs), \u001b[38;5;28mself\u001b[39m\u001b[38;5;241m.\u001b[39mloop)\n\u001b[0;32m---> 42\u001b[0m \u001b[38;5;28;01mreturn\u001b[39;00m \u001b[43mfut\u001b[49m\u001b[38;5;241;43m.\u001b[39;49m\u001b[43mresult\u001b[49m\u001b[43m(\u001b[49m\u001b[43m)\u001b[49m\n",
      "File \u001b[0;32m~/.local/share/uv/python/cpython-3.11.10-macos-aarch64-none/lib/python3.11/concurrent/futures/_base.py:456\u001b[0m, in \u001b[0;36mFuture.result\u001b[0;34m(self, timeout)\u001b[0m\n\u001b[1;32m    454\u001b[0m     \u001b[38;5;28;01mraise\u001b[39;00m CancelledError()\n\u001b[1;32m    455\u001b[0m \u001b[38;5;28;01melif\u001b[39;00m \u001b[38;5;28mself\u001b[39m\u001b[38;5;241m.\u001b[39m_state \u001b[38;5;241m==\u001b[39m FINISHED:\n\u001b[0;32m--> 456\u001b[0m     \u001b[38;5;28;01mreturn\u001b[39;00m \u001b[38;5;28;43mself\u001b[39;49m\u001b[38;5;241;43m.\u001b[39;49m\u001b[43m__get_result\u001b[49m\u001b[43m(\u001b[49m\u001b[43m)\u001b[49m\n\u001b[1;32m    457\u001b[0m \u001b[38;5;28;01melse\u001b[39;00m:\n\u001b[1;32m    458\u001b[0m     \u001b[38;5;28;01mraise\u001b[39;00m \u001b[38;5;167;01mTimeoutError\u001b[39;00m()\n",
      "File \u001b[0;32m~/.local/share/uv/python/cpython-3.11.10-macos-aarch64-none/lib/python3.11/concurrent/futures/_base.py:401\u001b[0m, in \u001b[0;36mFuture.__get_result\u001b[0;34m(self)\u001b[0m\n\u001b[1;32m    399\u001b[0m \u001b[38;5;28;01mif\u001b[39;00m \u001b[38;5;28mself\u001b[39m\u001b[38;5;241m.\u001b[39m_exception:\n\u001b[1;32m    400\u001b[0m     \u001b[38;5;28;01mtry\u001b[39;00m:\n\u001b[0;32m--> 401\u001b[0m         \u001b[38;5;28;01mraise\u001b[39;00m \u001b[38;5;28mself\u001b[39m\u001b[38;5;241m.\u001b[39m_exception\n\u001b[1;32m    402\u001b[0m     \u001b[38;5;28;01mfinally\u001b[39;00m:\n\u001b[1;32m    403\u001b[0m         \u001b[38;5;66;03m# Break a reference cycle with the exception in self._exception\u001b[39;00m\n\u001b[1;32m    404\u001b[0m         \u001b[38;5;28mself\u001b[39m \u001b[38;5;241m=\u001b[39m \u001b[38;5;28;01mNone\u001b[39;00m\n",
      "File \u001b[0;32m~/Documents/GitHub/vectrix-graphs/.venv/lib/python3.11/site-packages/weaviate/collections/queries/near_vector/query.py:92\u001b[0m, in \u001b[0;36m_NearVectorQueryAsync.near_vector\u001b[0;34m(self, near_vector, certainty, distance, limit, offset, auto_limit, filters, group_by, rerank, target_vector, include_vector, return_metadata, return_properties, return_references)\u001b[0m\n\u001b[1;32m     27\u001b[0m \u001b[38;5;28;01masync\u001b[39;00m \u001b[38;5;28;01mdef\u001b[39;00m \u001b[38;5;21mnear_vector\u001b[39m(\n\u001b[1;32m     28\u001b[0m     \u001b[38;5;28mself\u001b[39m,\n\u001b[1;32m     29\u001b[0m     near_vector: NearVectorInputType,\n\u001b[0;32m   (...)\u001b[0m\n\u001b[1;32m     43\u001b[0m     return_references: Optional[ReturnReferences[TReferences]] \u001b[38;5;241m=\u001b[39m \u001b[38;5;28;01mNone\u001b[39;00m,\n\u001b[1;32m     44\u001b[0m ) \u001b[38;5;241m-\u001b[39m\u001b[38;5;241m>\u001b[39m QuerySearchReturnType[Properties, References, TProperties, TReferences]:\n\u001b[1;32m     45\u001b[0m \u001b[38;5;250m    \u001b[39m\u001b[38;5;124;03m\"\"\"Search for objects by vector in this collection using and vector-based similarity search.\u001b[39;00m\n\u001b[1;32m     46\u001b[0m \n\u001b[1;32m     47\u001b[0m \u001b[38;5;124;03m    See the [docs](https://weaviate.io/developers/weaviate/search/similarity) for a more detailed explanation.\u001b[39;00m\n\u001b[0;32m   (...)\u001b[0m\n\u001b[1;32m     90\u001b[0m \u001b[38;5;124;03m            If the request to the Weaviate server fails.\u001b[39;00m\n\u001b[1;32m     91\u001b[0m \u001b[38;5;124;03m    \"\"\"\u001b[39;00m\n\u001b[0;32m---> 92\u001b[0m     res \u001b[38;5;241m=\u001b[39m \u001b[38;5;28;01mawait\u001b[39;00m \u001b[38;5;28mself\u001b[39m\u001b[38;5;241m.\u001b[39m_query\u001b[38;5;241m.\u001b[39mnear_vector(\n\u001b[1;32m     93\u001b[0m         near_vector\u001b[38;5;241m=\u001b[39mnear_vector,\n\u001b[1;32m     94\u001b[0m         certainty\u001b[38;5;241m=\u001b[39mcertainty,\n\u001b[1;32m     95\u001b[0m         distance\u001b[38;5;241m=\u001b[39mdistance,\n\u001b[1;32m     96\u001b[0m         limit\u001b[38;5;241m=\u001b[39mlimit,\n\u001b[1;32m     97\u001b[0m         offset\u001b[38;5;241m=\u001b[39moffset,\n\u001b[1;32m     98\u001b[0m         autocut\u001b[38;5;241m=\u001b[39mauto_limit,\n\u001b[1;32m     99\u001b[0m         filters\u001b[38;5;241m=\u001b[39mfilters,\n\u001b[1;32m    100\u001b[0m         group_by\u001b[38;5;241m=\u001b[39m_GroupBy\u001b[38;5;241m.\u001b[39mfrom_input(group_by),\n\u001b[1;32m    101\u001b[0m         rerank\u001b[38;5;241m=\u001b[39mrerank,\n\u001b[1;32m    102\u001b[0m         target_vector\u001b[38;5;241m=\u001b[39mtarget_vector,\n\u001b[1;32m    103\u001b[0m         return_metadata\u001b[38;5;241m=\u001b[39m\u001b[38;5;28mself\u001b[39m\u001b[38;5;241m.\u001b[39m_parse_return_metadata(return_metadata, include_vector),\n\u001b[1;32m    104\u001b[0m         return_properties\u001b[38;5;241m=\u001b[39m\u001b[38;5;28mself\u001b[39m\u001b[38;5;241m.\u001b[39m_parse_return_properties(return_properties),\n\u001b[1;32m    105\u001b[0m         return_references\u001b[38;5;241m=\u001b[39m\u001b[38;5;28mself\u001b[39m\u001b[38;5;241m.\u001b[39m_parse_return_references(return_references),\n\u001b[1;32m    106\u001b[0m     )\n\u001b[1;32m    107\u001b[0m     \u001b[38;5;28;01mreturn\u001b[39;00m \u001b[38;5;28mself\u001b[39m\u001b[38;5;241m.\u001b[39m_result_to_query_or_groupby_return(\n\u001b[1;32m    108\u001b[0m         res,\n\u001b[1;32m    109\u001b[0m         _QueryOptions\u001b[38;5;241m.\u001b[39mfrom_input(\n\u001b[0;32m   (...)\u001b[0m\n\u001b[1;32m    119\u001b[0m         return_references,\n\u001b[1;32m    120\u001b[0m     )\n",
      "File \u001b[0;32m~/Documents/GitHub/vectrix-graphs/.venv/lib/python3.11/site-packages/weaviate/collections/grpc/query.py:814\u001b[0m, in \u001b[0;36m_QueryGRPC.__call\u001b[0;34m(self, request)\u001b[0m\n\u001b[1;32m    812\u001b[0m     \u001b[38;5;28;01mreturn\u001b[39;00m cast(search_get_pb2\u001b[38;5;241m.\u001b[39mSearchReply, res)\n\u001b[1;32m    813\u001b[0m \u001b[38;5;28;01mexcept\u001b[39;00m (AioRpcError, WeaviateRetryError) \u001b[38;5;28;01mas\u001b[39;00m e:\n\u001b[0;32m--> 814\u001b[0m     \u001b[38;5;28;01mraise\u001b[39;00m WeaviateQueryError(\u001b[38;5;28mstr\u001b[39m(e), \u001b[38;5;124m\"\u001b[39m\u001b[38;5;124mGRPC search\u001b[39m\u001b[38;5;124m\"\u001b[39m)\n",
      "\u001b[0;31mWeaviateQueryError\u001b[0m: Query call with protocol GRPC search failed with message <AioRpcError of RPC that terminated with:\n\tstatus = StatusCode.UNKNOWN\n\tdetails = \"explorer: get class: concurrentTargetVectorSearch): explorer: get class: vector search: object vector search at index multimodal_demo: get/init local shard \"vx9LGkg23vV8\", no shutdown: LazyLoadShard::preventShutdown: Unable to load shard vx9LGkg23vV8: init shard \"multimodal_demo_vx9LGkg23vV8\": init shard \"multimodal_demo_vx9LGkg23vV8\": init prop \"image_data\": value index: init disk segments: init segment segment-1732277752996229589.db: unexpected error loading segment \"/var/lib/weaviate/multimodal_demo/vx9LGkg23vV8/lsm/property_image_data_searchable/segment-1732277752996229589.db\": runtime error: slice bounds out of range [:964191095] with capacity 33073818\"\n\tdebug_error_string = \"UNKNOWN:Error received from peer  {created_time:\"2024-11-23T12:47:59.270112+00:00\", grpc_status:2, grpc_message:\"explorer: get class: concurrentTargetVectorSearch): explorer: get class: vector search: object vector search at index multimodal_demo: get/init local shard \\\"vx9LGkg23vV8\\\", no shutdown: LazyLoadShard::preventShutdown: Unable to load shard vx9LGkg23vV8: init shard \\\"multimodal_demo_vx9LGkg23vV8\\\": init shard \\\"multimodal_demo_vx9LGkg23vV8\\\": init prop \\\"image_data\\\": value index: init disk segments: init segment segment-1732277752996229589.db: unexpected error loading segment \\\"/var/lib/weaviate/multimodal_demo/vx9LGkg23vV8/lsm/property_image_data_searchable/segment-1732277752996229589.db\\\": runtime error: slice bounds out of range [:964191095] with capacity 33073818\"}\"\n>."
     ]
    }
   ],
   "source": [
    "#Ask the question\n",
    "input_message = [HumanMessage(content=\"What does the magazine say about cats ?\")]\n",
    "\n",
    "config = {\"configurable\": {\"collection_name\": \"multimodal_demo\", \"include_images\": True}}\n",
    "\n",
    "# Run the graph\n",
    "response = await multi_modal_graph.ainvoke({\"messages\": input_message}, config=config)\n",
    "print(response['messages'][-1].content)"
   ]
  },
  {
   "cell_type": "code",
   "execution_count": 5,
   "metadata": {},
   "outputs": [
    {
     "ename": "NameError",
     "evalue": "name 'response' is not defined",
     "output_type": "error",
     "traceback": [
      "\u001b[0;31m---------------------------------------------------------------------------\u001b[0m",
      "\u001b[0;31mNameError\u001b[0m                                 Traceback (most recent call last)",
      "Cell \u001b[0;32mIn[5], line 1\u001b[0m\n\u001b[0;32m----> 1\u001b[0m \u001b[43mresponse\u001b[49m\n",
      "\u001b[0;31mNameError\u001b[0m: name 'response' is not defined"
     ]
    }
   ],
   "source": [
    "response"
   ]
  }
 ],
 "metadata": {
  "kernelspec": {
   "display_name": ".venv",
   "language": "python",
   "name": "python3"
  },
  "language_info": {
   "codemirror_mode": {
    "name": "ipython",
    "version": 3
   },
   "file_extension": ".py",
   "mimetype": "text/x-python",
   "name": "python",
   "nbconvert_exporter": "python",
   "pygments_lexer": "ipython3",
   "version": "3.11.10"
  }
 },
 "nbformat": 4,
 "nbformat_minor": 2
}
