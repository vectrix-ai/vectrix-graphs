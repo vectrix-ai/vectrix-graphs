{
 "cells": [
  {
   "cell_type": "code",
   "execution_count": 8,
   "metadata": {},
   "outputs": [],
   "source": [
    "import os\n",
    "import json\n",
    "from slack_sdk import WebClient\n",
    "from slack_sdk.errors import SlackApiError"
   ]
  },
  {
   "cell_type": "code",
   "execution_count": 9,
   "metadata": {},
   "outputs": [
    {
     "name": "stdout",
     "output_type": "stream",
     "text": [
      "Downloaded 832 messages from channel C057EJE6QDB.\n"
     ]
    }
   ],
   "source": [
    "import os\n",
    "import json\n",
    "from slack_sdk import WebClient\n",
    "from slack_sdk.errors import SlackApiError\n",
    "from dotenv import load_dotenv\n",
    "load_dotenv()\n",
    "\n",
    "# Initialize the Slack client with your Bot User OAuth Token\n",
    "client = WebClient(token=os.getenv(\"SLACK_BOT_USER_OAUTH_TOKEN\"))\n",
    "\n",
    "# Specify the channel ID you want to fetch history from\n",
    "channel_id = 'C057EJE6QDB'\n",
    "\n",
    "# Function to fetch and save channel history\n",
    "def fetch_channel_history(channel_id):\n",
    "    try:\n",
    "        # Initialize variables\n",
    "        has_more = True\n",
    "        cursor = None\n",
    "        all_messages = []\n",
    "\n",
    "        # Fetch messages in a loop to handle pagination\n",
    "        while has_more:\n",
    "            response = client.conversations_history(\n",
    "                channel=channel_id,\n",
    "                cursor=cursor,\n",
    "                limit=200  # Maximum is 200\n",
    "            )\n",
    "            messages = response['messages']\n",
    "            all_messages.extend(messages)\n",
    "            has_more = response['has_more']\n",
    "            cursor = response['response_metadata']['next_cursor'] if has_more else None\n",
    "\n",
    "\n",
    "        print(f\"Downloaded {len(all_messages)} messages from channel {channel_id}.\")\n",
    "\n",
    "        return all_messages\n",
    "\n",
    "    except SlackApiError as e:\n",
    "        print(f\"Error fetching conversations: {e.response['error']}\")\n",
    "\n",
    "# Call the function\n",
    "messages = fetch_channel_history(channel_id)"
   ]
  },
  {
   "cell_type": "code",
   "execution_count": 15,
   "metadata": {},
   "outputs": [],
   "source": [
    "# Function to fetch user info\n",
    "def fetch_user_info(user_id):\n",
    "    try:\n",
    "        response = client.users_info(user=user_id)\n",
    "        if response['ok']:\n",
    "            user_info = response['user']\n",
    "            username = user_info['name']  # Username\n",
    "            real_name = user_info['real_name'] if 'real_name' in user_info else None  # Full name\n",
    "            return username, real_name\n",
    "        else:\n",
    "            print(f\"Error fetching user info: {response['error']}\")\n",
    "            return None, None\n",
    "    except SlackApiError as e:\n",
    "        print(f\"Error fetching user info: {e.response['error']}\")\n",
    "        return None, None"
   ]
  },
  {
   "cell_type": "code",
   "execution_count": 16,
   "metadata": {},
   "outputs": [
    {
     "name": "stdout",
     "output_type": "stream",
     "text": [
      "Processed 832 messages from channel C057EJE6QDB.\n"
     ]
    }
   ],
   "source": [
    "# Dictionary to cache user info\n",
    "user_cache = {}\n",
    "\n",
    "# Process messages\n",
    "for message in messages:\n",
    "    user_id = message.get('user')\n",
    "    if user_id:\n",
    "        if user_id not in user_cache:\n",
    "            username, real_name = fetch_user_info(user_id)\n",
    "            user_cache[user_id] = {'username': username, 'real_name': real_name}\n",
    "        else:\n",
    "            username = user_cache[user_id]['username']\n",
    "            real_name = user_cache[user_id]['real_name']\n",
    "\n",
    "        # Add username and real_name to the message\n",
    "        message['username'] = username\n",
    "        message['real_name'] = real_name\n",
    "\n",
    "# Save messages with usernames to a JSON file\n",
    "with open(f'{channel_id}_history_with_usernames.json', 'w') as f:\n",
    "    json.dump(messages, f, indent=4)\n",
    "\n",
    "print(f\"Processed {len(messages)} messages from channel {channel_id}.\")"
   ]
  },
  {
   "cell_type": "code",
   "execution_count": null,
   "metadata": {},
   "outputs": [],
   "source": [
    "import requests\n",
    "\n",
    "def download_file(url, filename):\n",
    "    headers = {'Authorization': f'Bearer YOUR_SLACK_API_TOKEN'}\n",
    "    response = requests.get(url, headers=headers)\n",
    "    if response.status_code == 200:\n",
    "        with open(filename, 'wb') as f:\n",
    "            f.write(response.content)\n",
    "        print(f\"Downloaded file: {filename}\")\n",
    "    else:\n",
    "        print(f\"Failed to download file: {filename}\")\n",
    "\n",
    "def fetch_channel_history_with_files(channel_id):\n",
    "    try:\n",
    "        has_more = True\n",
    "        cursor = None\n",
    "        all_messages = []\n",
    "\n",
    "        while has_more:\n",
    "            response = client.conversations_history(\n",
    "                channel=channel_id,\n",
    "                cursor=cursor,\n",
    "                limit=200\n",
    "            )\n",
    "            messages = response['messages']\n",
    "            all_messages.extend(messages)\n",
    "            has_more = response['has_more']\n",
    "            cursor = response['response_metadata']['next_cursor'] if has_more else None\n",
    "\n",
    "            # Check for files in messages\n",
    "            for message in messages:\n",
    "                if 'files' in message:\n",
    "                    for file_info in message['files']:\n",
    "                        file_url = file_info['url_private']\n",
    "                        file_name = file_info['name']\n",
    "                        download_file(file_url, file_name)\n",
    "\n",
    "        with open(f'{channel_id}_history_with_files.json', 'w') as f:\n",
    "            json.dump(all_messages, f, indent=4)\n",
    "\n",
    "        print(f\"Downloaded {len(all_messages)} messages and associated files from channel {channel_id}.\")\n",
    "\n",
    "    except SlackApiError as e:\n",
    "        print(f\"Error fetching conversations: {e.response['error']}\")\n",
    "\n",
    "# Call the function\n",
    "fetch_channel_history_with_files(channel_id)"
   ]
  }
 ],
 "metadata": {
  "kernelspec": {
   "display_name": ".venv",
   "language": "python",
   "name": "python3"
  },
  "language_info": {
   "codemirror_mode": {
    "name": "ipython",
    "version": 3
   },
   "file_extension": ".py",
   "mimetype": "text/x-python",
   "name": "python",
   "nbconvert_exporter": "python",
   "pygments_lexer": "ipython3",
   "version": "3.11.10"
  }
 },
 "nbformat": 4,
 "nbformat_minor": 2
}
