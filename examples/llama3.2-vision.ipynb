{
 "cells": [
  {
   "cell_type": "markdown",
   "metadata": {},
   "source": [
    "# Llama 3.2 Image Extraction and LangGraph\n",
    "\n",
    "In this example, we'll use the `llama3.2-vision` model to extract information from an image and create an agentic pipeline (using LangGraph) to process the image and extract the relevant information.\n",
    "\n",
    "The image we'll use is an example invoice photo.\n",
    "# \n",
    "# ![Example Invoice Photo](./files/example_invoice_photo.png)\n",
    "# \n"
   ]
  },
  {
   "cell_type": "code",
   "execution_count": 19,
   "metadata": {},
   "outputs": [
    {
     "name": "stdout",
     "output_type": "stream",
     "text": [
      "{\n",
      "  \"invoice_number\": \"US-001\",\n",
      "  \"date\": \"11/02/2019\",\n",
      "  \"total_amount\": 154.06,\n",
      "  \"vendor_name\": \"East Repair Inc.\",\n",
      "  \"vendor_address\": \"1912 Harvest Lane, New York, NY 12210\",\n",
      "  \"line_items\": [\n",
      "    {\n",
      "      \"item_name\": \"Front and rear brake cables\",\n",
      "      \"cost\": 100.0\n",
      "    },\n",
      "    {\n",
      "      \"item_name\": \"New set of pedal arms\",\n",
      "      \"cost\": 30.0\n",
      "    },\n",
      "    {\n",
      "      \"item_name\": \"Labor 3hrs\",\n",
      "      \"cost\": 15.0\n",
      "    }\n",
      "  ],\n",
      "  \"payment_terms\": \"Net 15\",\n",
      "  \"due_date\": \"26/02/2019\",\n",
      "  \"tax_amount\": 9.06,\n",
      "  \"subtotal\": 145.0\n",
      "}\n"
     ]
    }
   ],
   "source": [
    "import base64\n",
    "from langchain_core.messages import HumanMessage, SystemMessage\n",
    "from langchain_core.prompts import ChatPromptTemplate\n",
    "from langchain_openai import ChatOpenAI\n",
    "from langchain_core.output_parsers import PydanticToolsParser\n",
    "\n",
    "from pydantic import BaseModel, Field\n",
    "from typing import List\n",
    "\n",
    "with open(\"files/example_invoice_photo.png\", \"rb\") as image_file:\n",
    "    image_data = base64.b64encode(image_file.read()).decode(\"utf-8\")\n",
    "\n",
    "\n",
    "class Invoice(BaseModel):\n",
    "    \"\"\"A Pydantic model representing an invoice document.\"\"\"\n",
    "    invoice_number: str = Field(..., description=\"The unique identifier for this invoice\")\n",
    "    date: str = Field(..., description=\"The date when the invoice was issued\") \n",
    "    total_amount: float = Field(..., description=\"The total amount to be paid, including tax if applicable\")\n",
    "    vendor_name: str = Field(..., description=\"The name of the vendor/company issuing the invoice\")\n",
    "    vendor_address: str | None = Field(None, description=\"The physical address of the vendor\")\n",
    "    line_items: List | None = Field(None, description='List of items/services being billed, with their individual costs. For example [{\"item_name\": \"Front and rear brake cables\", \"cost\": 100.0}]')\n",
    "    payment_terms: str | None = Field(None, description=\"The terms of payment, e.g. 'Net 30'\")\n",
    "    due_date: str | None = Field(None, description=\"The date by which the payment must be made\")\n",
    "    tax_amount: float | None = Field(None, description=\"The amount of tax charged\")\n",
    "    subtotal: float | None = Field(None, description=\"The total amount before tax\")\n",
    "\n",
    "system_message = SystemMessage(content=\"You return the invoice information as a structured tool call\")\n",
    "\n",
    "human_message = HumanMessage(\n",
    "    content=[\n",
    "        {\n",
    "            \"type\": \"image_url\",\n",
    "            \"image_url\": {\"url\": f\"data:image/png;base64,{image_data}\"},\n",
    "        },\n",
    "    ],\n",
    ")\n",
    "\n",
    "prompt = ChatPromptTemplate.from_messages(\n",
    "    [\n",
    "        system_message,\n",
    "        human_message\n",
    "    ]\n",
    ")\n",
    "\n",
    "llm = ChatOpenAI(model=\"gpt-4o-mini\", temperature=0).bind_tools([Invoice])\n",
    "\n",
    "chain = prompt | llm | PydanticToolsParser(tools=[Invoice])\n",
    "\n",
    "structured_output = chain.invoke({})\n",
    "print(structured_output[0].model_dump_json(indent=2))\n"
   ]
  },
  {
   "cell_type": "code",
   "execution_count": null,
   "metadata": {},
   "outputs": [],
   "source": [
    "import base64\n",
    "from langchain_core.messages import HumanMessage\n",
    "from langchain_ollama import ChatOllama\n",
    "\n",
    "model = ChatOllama(model=\"llama3.2-vision\")\n",
    "\n",
    "with open(\"files/example_invoice_photo.png\", \"rb\") as image_file:\n",
    "    image_data = base64.b64encode(image_file.read()).decode(\"utf-8\")\n",
    "\n",
    "message = HumanMessage(\n",
    "    content=[\n",
    "        {\"type\": \"text\", \"text\": \"Describe the contents of this image\"},\n",
    "        {\n",
    "            \"type\": \"image_url\",\n",
    "            \"image_url\": {\"url\": f\"data:image/png;base64,{image_data}\"},\n",
    "        },\n",
    "    ],\n",
    ")\n",
    "response = model.invoke([message])\n",
    "print(response.content)"
   ]
  }
 ],
 "metadata": {
  "kernelspec": {
   "display_name": ".venv",
   "language": "python",
   "name": "python3"
  },
  "language_info": {
   "codemirror_mode": {
    "name": "ipython",
    "version": 3
   },
   "file_extension": ".py",
   "mimetype": "text/x-python",
   "name": "python",
   "nbconvert_exporter": "python",
   "pygments_lexer": "ipython3",
   "version": "3.11.10"
  }
 },
 "nbformat": 4,
 "nbformat_minor": 2
}
