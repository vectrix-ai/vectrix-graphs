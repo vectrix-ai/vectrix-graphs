{
 "cells": [
  {
   "cell_type": "markdown",
   "metadata": {},
   "source": [
    "# Llama 3.2 Image Extraction and LangGraph\n",
    "\n",
    "In this example, we'll use the `llama3.2-vision` model to extract information from an image and create an agentic pipeline (using LangGraph) to process the image and extract the relevant information.\n",
    "\n",
    "The image we'll use is an example invoice photo.\n",
    "# \n",
    "# ![Example Invoice Photo](files/example_invoice_photo.png)\n",
    "# \n"
   ]
  },
  {
   "cell_type": "code",
   "execution_count": 1,
   "metadata": {},
   "outputs": [
    {
     "name": "stdout",
     "output_type": "stream",
     "text": [
      "**Invoice for East Repair Inc.**\n",
      "\n",
      "The image presents a detailed invoice from East Repair Inc., dated February 11, 2019. The invoice is addressed to John Smith at 2 Court Square, New York, NY.\n",
      "\n",
      "**Invoice Details:**\n",
      "\n",
      "* **Invoice Number:** US-001\n",
      "* **Date:** February 11, 2019\n",
      "* **Billing Information:**\n",
      "\t+ Company Name: East Repair Inc.\n",
      "\t+ Address: 1912 Harvest Lane, New York, NY 12210\n",
      "* **Customer Information:**\n",
      "\t+ Name: John Smith\n",
      "\t+ Address: 2 Court Square, New York, NY\n",
      "\n",
      "**Order Summary:**\n",
      "\n",
      "The invoice includes a summary of the order:\n",
      "\n",
      "* **Quantity:** 1\n",
      "* **Description:** Front and rear brake cables\n",
      "* **Unit Price:** $100.00\n",
      "* **Total Cost:** $100.00\n",
      "\n",
      "Additionally, there are two other items listed:\n",
      "\n",
      "* **New Set of Pedal Arms:** $15.00\n",
      "* **Labor (3 hours):** $30.00\n",
      "\n",
      "The subtotal for these items is $45.00.\n",
      "\n",
      "**Subtotal and Total:**\n",
      "\n",
      "The subtotal for the entire order is $145.00. The sales tax rate is 6.25%, resulting in a total of $154.06.\n",
      "\n",
      "**Payment Terms:**\n",
      "\n",
      "The payment terms are as follows:\n",
      "\n",
      "* Payment is due within 15 days\n",
      "* Checks should be made payable to East Repair Inc.\n",
      "\n",
      "Overall, this invoice provides a clear and detailed breakdown of the services provided by East Repair Inc., along with the associated costs and payment terms.\n"
     ]
    }
   ],
   "source": [
    "import ollama\n",
    "\n",
    "response = ollama.chat(\n",
    "    model='llama3.2-vision',\n",
    "    messages=[{\n",
    "        'role': 'user',\n",
    "        'content': 'What is in this image?',\n",
    "        'images': ['files/example_invoice_photo.png']\n",
    "    }],\n",
    ")\n",
    "\n",
    "print(response['message']['content'])"
   ]
  },
  {
   "cell_type": "code",
   "execution_count": 11,
   "metadata": {},
   "outputs": [
    {
     "name": "stdout",
     "output_type": "stream",
     "text": [
      "The image presents a sample invoice from East Repair Inc. to John Smith, dated 11/02/2019.\n",
      "\n",
      "**Invoice Details**\n",
      "\n",
      "* **Company Name:** East Repair Inc.\n",
      "* **Address:** 1912 Harvest Lane, New York, NY 12210\n",
      "* **Bill To:** John Smith, 2 Court Square, New York, NY 12210\n",
      "* **Ship To:** John Smith, 3787 Pineview Drive, Cambridge, MA 12210\n",
      "\n",
      "**Invoice Number:** US-001\n",
      "\n",
      "**Items and Prices**\n",
      "\n",
      "* Front and Rear Brake Cables: $100.00\n",
      "* New Set of Pedal Arms: $15.00\n",
      "* Labor (3 hours): $30.00\n",
      "\n",
      "**Subtotal:** $145.00\n",
      "**Sales Tax (6.25%):** $9.06\n",
      "**Total:** $154.06\n",
      "\n",
      "**Payment Terms**\n",
      "\n",
      "* Payment due within 15 days\n",
      "* Please make checks payable to East Repair Inc.\n",
      "\n",
      "This invoice provides a clear and detailed breakdown of the services rendered by East Repair Inc. to John Smith, including the cost of materials and labor, as well as any applicable sales tax. The payment terms are clearly stated, ensuring that Mr. Smith understands when he needs to pay the invoice in full.\n"
     ]
    }
   ],
   "source": [
    "import base64\n",
    "from langchain_core.messages import HumanMessage\n",
    "from langchain_ollama import ChatOllama\n",
    "\n",
    "model = ChatOllama(model=\"llama3.2-vision\")\n",
    "\n",
    "with open(\"files/example_invoice_photo.png\", \"rb\") as image_file:\n",
    "    image_data = base64.b64encode(image_file.read()).decode(\"utf-8\")\n",
    "\n",
    "message = HumanMessage(\n",
    "    content=[\n",
    "        {\"type\": \"text\", \"text\": \"Describe the contents of this image\"},\n",
    "        {\n",
    "            \"type\": \"image_url\",\n",
    "            \"image_url\": {\"url\": f\"data:image/png;base64,{image_data}\"},\n",
    "        },\n",
    "    ],\n",
    ")\n",
    "response = model.invoke([message])\n",
    "print(response.content)"
   ]
  },
  {
   "cell_type": "code",
   "execution_count": null,
   "metadata": {},
   "outputs": [],
   "source": []
  }
 ],
 "metadata": {
  "kernelspec": {
   "display_name": ".venv",
   "language": "python",
   "name": "python3"
  },
  "language_info": {
   "codemirror_mode": {
    "name": "ipython",
    "version": 3
   },
   "file_extension": ".py",
   "mimetype": "text/x-python",
   "name": "python",
   "nbconvert_exporter": "python",
   "pygments_lexer": "ipython3",
   "version": "3.11.10"
  }
 },
 "nbformat": 4,
 "nbformat_minor": 2
}
